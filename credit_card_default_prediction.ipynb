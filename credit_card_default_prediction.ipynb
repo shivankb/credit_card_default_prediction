{
  "nbformat": 4,
  "nbformat_minor": 0,
  "metadata": {
    "colab": {
      "provenance": [],
      "authorship_tag": "ABX9TyPSa36gNrv73HAwAP9TXP9y",
      "include_colab_link": true
    },
    "kernelspec": {
      "name": "python3",
      "display_name": "Python 3"
    },
    "language_info": {
      "name": "python"
    }
  },
  "cells": [
    {
      "cell_type": "markdown",
      "metadata": {
        "id": "view-in-github",
        "colab_type": "text"
      },
      "source": [
        "<a href=\"https://colab.research.google.com/github/shivankb/credit_card_default_prediction/blob/master/credit_card_default_prediction.ipynb\" target=\"_parent\"><img src=\"https://colab.research.google.com/assets/colab-badge.svg\" alt=\"Open In Colab\"/></a>"
      ]
    },
    {
      "cell_type": "markdown",
      "source": [
        "#**Credit Card Default Prediction**"
      ],
      "metadata": {
        "id": "7zY6OELJm9dP"
      }
    },
    {
      "cell_type": "markdown",
      "source": [
        "#**Project Summary**\n",
        "\n",
        "This project is aimed at predicting the case of customers default payment in Taiwan. From the prospective of risk management, the result of predictive accuracy of estimated probability of default will be more valuable than the binary result of classification - credible or not credible clients.We are going to evaluate which customers will default on this credit card payments.\n",
        "\n",
        "###**Dataset:**\n",
        "\n",
        "* **LIMIT_BAL**: Credit amount\n",
        "* **SEX**: Gender\n",
        "* **EDUCATION**: Education \n",
        "* **MARRIAGE**: Marital status \n",
        "* **AGE**: Age\n",
        "* **PAY_0 - PAY_6**: History of past payment\n",
        "* **BILL_AMT1-BILL_AMT6**: Bill amount\n",
        "* **PAY_AMT1-PAY_AMT6:** Amount of previous payment\n",
        "* **default payment next month**: positive class: default | negative class: pay"
      ],
      "metadata": {
        "id": "cZIzafBmm9t4"
      }
    },
    {
      "cell_type": "markdown",
      "source": [
        "##**Problem Statement**"
      ],
      "metadata": {
        "id": "xdQepkE5L9S7"
      }
    },
    {
      "cell_type": "markdown",
      "source": [
        "Predicting credit card defaults is a critical problem for financial institutions, as it directly impacts their bottom line. Credit card companies must balance the risk of default with the need to provide credit to customers. The goal of this machine learning classification project is to develop a model that can accurately predict whether or not a credit card holder will default on their payment in the future. The model will be trained on a dataset containing various information and payment history of credit card holders, and will be evaluated on its ability to predict defaults."
      ],
      "metadata": {
        "id": "SNHpA26fLev3"
      }
    },
    {
      "cell_type": "markdown",
      "source": [
        "#**Let's Begin**"
      ],
      "metadata": {
        "id": "Ft_KcBiOdPwy"
      }
    },
    {
      "cell_type": "markdown",
      "source": [
        "##***Starting with importing necessary packages and mounting the drive***"
      ],
      "metadata": {
        "id": "FASLdzBqdbuU"
      }
    },
    {
      "cell_type": "code",
      "source": [
        "# Importing libraries\n",
        "import pandas as pd\n",
        "import numpy as np\n",
        "import matplotlib.pyplot as plt\n",
        "%matplotlib inline\n",
        "import seaborn as sns\n",
        "\n",
        "import warnings\n",
        "warnings.filterwarnings('ignore')"
      ],
      "metadata": {
        "id": "5D88D97xrmSB"
      },
      "execution_count": 56,
      "outputs": []
    },
    {
      "cell_type": "code",
      "source": [
        "# Mounting CSV files from drive\n",
        "from google.colab import drive\n",
        "drive.mount('/content/drive')"
      ],
      "metadata": {
        "id": "_1BJjXwDvPIR",
        "colab": {
          "base_uri": "https://localhost:8080/"
        },
        "outputId": "4ac32ccd-4cb0-446f-97fc-1077fd5fb6a6"
      },
      "execution_count": 57,
      "outputs": [
        {
          "output_type": "stream",
          "name": "stdout",
          "text": [
            "Drive already mounted at /content/drive; to attempt to forcibly remount, call drive.mount(\"/content/drive\", force_remount=True).\n"
          ]
        }
      ]
    },
    {
      "cell_type": "code",
      "source": [
        "# Creating data files path and reading the  files\n",
        "credit_df = pd.read_excel(\"/content/drive/MyDrive/Credit Card Defaut ML Regression/default of credit card clients.xls\")"
      ],
      "metadata": {
        "id": "61pUqvtQz1W1"
      },
      "execution_count": 58,
      "outputs": []
    },
    {
      "cell_type": "markdown",
      "source": [
        "##**Understanding the data**"
      ],
      "metadata": {
        "id": "NAqMWhX1de-3"
      }
    },
    {
      "cell_type": "markdown",
      "source": [
        "###Dataset first view"
      ],
      "metadata": {
        "id": "4LWF5PSjdiRS"
      }
    },
    {
      "cell_type": "code",
      "source": [
        "credit_df.head()"
      ],
      "metadata": {
        "id": "XpNDybc70e3c",
        "colab": {
          "base_uri": "https://localhost:8080/",
          "height": 351
        },
        "outputId": "18333e97-8fa1-4854-91fb-ab9b57438749"
      },
      "execution_count": 59,
      "outputs": [
        {
          "output_type": "execute_result",
          "data": {
            "text/plain": [
              "   ID  LIMIT_BAL  SEX  EDUCATION  MARRIAGE  AGE  PAY_0  PAY_2  PAY_3  PAY_4  \\\n",
              "0   1      20000    2          2         1   24      2      2     -1     -1   \n",
              "1   2     120000    2          2         2   26     -1      2      0      0   \n",
              "2   3      90000    2          2         2   34      0      0      0      0   \n",
              "3   4      50000    2          2         1   37      0      0      0      0   \n",
              "4   5      50000    1          2         1   57     -1      0     -1      0   \n",
              "\n",
              "   ...  BILL_AMT4  BILL_AMT5  BILL_AMT6  PAY_AMT1  PAY_AMT2  PAY_AMT3  \\\n",
              "0  ...          0          0          0         0       689         0   \n",
              "1  ...       3272       3455       3261         0      1000      1000   \n",
              "2  ...      14331      14948      15549      1518      1500      1000   \n",
              "3  ...      28314      28959      29547      2000      2019      1200   \n",
              "4  ...      20940      19146      19131      2000     36681     10000   \n",
              "\n",
              "   PAY_AMT4  PAY_AMT5  PAY_AMT6  default payment next month  \n",
              "0         0         0         0                           1  \n",
              "1      1000         0      2000                           1  \n",
              "2      1000      1000      5000                           0  \n",
              "3      1100      1069      1000                           0  \n",
              "4      9000       689       679                           0  \n",
              "\n",
              "[5 rows x 25 columns]"
            ],
            "text/html": [
              "\n",
              "  <div id=\"df-fa243a0e-0338-4af3-8332-5117bb296fbb\">\n",
              "    <div class=\"colab-df-container\">\n",
              "      <div>\n",
              "<style scoped>\n",
              "    .dataframe tbody tr th:only-of-type {\n",
              "        vertical-align: middle;\n",
              "    }\n",
              "\n",
              "    .dataframe tbody tr th {\n",
              "        vertical-align: top;\n",
              "    }\n",
              "\n",
              "    .dataframe thead th {\n",
              "        text-align: right;\n",
              "    }\n",
              "</style>\n",
              "<table border=\"1\" class=\"dataframe\">\n",
              "  <thead>\n",
              "    <tr style=\"text-align: right;\">\n",
              "      <th></th>\n",
              "      <th>ID</th>\n",
              "      <th>LIMIT_BAL</th>\n",
              "      <th>SEX</th>\n",
              "      <th>EDUCATION</th>\n",
              "      <th>MARRIAGE</th>\n",
              "      <th>AGE</th>\n",
              "      <th>PAY_0</th>\n",
              "      <th>PAY_2</th>\n",
              "      <th>PAY_3</th>\n",
              "      <th>PAY_4</th>\n",
              "      <th>...</th>\n",
              "      <th>BILL_AMT4</th>\n",
              "      <th>BILL_AMT5</th>\n",
              "      <th>BILL_AMT6</th>\n",
              "      <th>PAY_AMT1</th>\n",
              "      <th>PAY_AMT2</th>\n",
              "      <th>PAY_AMT3</th>\n",
              "      <th>PAY_AMT4</th>\n",
              "      <th>PAY_AMT5</th>\n",
              "      <th>PAY_AMT6</th>\n",
              "      <th>default payment next month</th>\n",
              "    </tr>\n",
              "  </thead>\n",
              "  <tbody>\n",
              "    <tr>\n",
              "      <th>0</th>\n",
              "      <td>1</td>\n",
              "      <td>20000</td>\n",
              "      <td>2</td>\n",
              "      <td>2</td>\n",
              "      <td>1</td>\n",
              "      <td>24</td>\n",
              "      <td>2</td>\n",
              "      <td>2</td>\n",
              "      <td>-1</td>\n",
              "      <td>-1</td>\n",
              "      <td>...</td>\n",
              "      <td>0</td>\n",
              "      <td>0</td>\n",
              "      <td>0</td>\n",
              "      <td>0</td>\n",
              "      <td>689</td>\n",
              "      <td>0</td>\n",
              "      <td>0</td>\n",
              "      <td>0</td>\n",
              "      <td>0</td>\n",
              "      <td>1</td>\n",
              "    </tr>\n",
              "    <tr>\n",
              "      <th>1</th>\n",
              "      <td>2</td>\n",
              "      <td>120000</td>\n",
              "      <td>2</td>\n",
              "      <td>2</td>\n",
              "      <td>2</td>\n",
              "      <td>26</td>\n",
              "      <td>-1</td>\n",
              "      <td>2</td>\n",
              "      <td>0</td>\n",
              "      <td>0</td>\n",
              "      <td>...</td>\n",
              "      <td>3272</td>\n",
              "      <td>3455</td>\n",
              "      <td>3261</td>\n",
              "      <td>0</td>\n",
              "      <td>1000</td>\n",
              "      <td>1000</td>\n",
              "      <td>1000</td>\n",
              "      <td>0</td>\n",
              "      <td>2000</td>\n",
              "      <td>1</td>\n",
              "    </tr>\n",
              "    <tr>\n",
              "      <th>2</th>\n",
              "      <td>3</td>\n",
              "      <td>90000</td>\n",
              "      <td>2</td>\n",
              "      <td>2</td>\n",
              "      <td>2</td>\n",
              "      <td>34</td>\n",
              "      <td>0</td>\n",
              "      <td>0</td>\n",
              "      <td>0</td>\n",
              "      <td>0</td>\n",
              "      <td>...</td>\n",
              "      <td>14331</td>\n",
              "      <td>14948</td>\n",
              "      <td>15549</td>\n",
              "      <td>1518</td>\n",
              "      <td>1500</td>\n",
              "      <td>1000</td>\n",
              "      <td>1000</td>\n",
              "      <td>1000</td>\n",
              "      <td>5000</td>\n",
              "      <td>0</td>\n",
              "    </tr>\n",
              "    <tr>\n",
              "      <th>3</th>\n",
              "      <td>4</td>\n",
              "      <td>50000</td>\n",
              "      <td>2</td>\n",
              "      <td>2</td>\n",
              "      <td>1</td>\n",
              "      <td>37</td>\n",
              "      <td>0</td>\n",
              "      <td>0</td>\n",
              "      <td>0</td>\n",
              "      <td>0</td>\n",
              "      <td>...</td>\n",
              "      <td>28314</td>\n",
              "      <td>28959</td>\n",
              "      <td>29547</td>\n",
              "      <td>2000</td>\n",
              "      <td>2019</td>\n",
              "      <td>1200</td>\n",
              "      <td>1100</td>\n",
              "      <td>1069</td>\n",
              "      <td>1000</td>\n",
              "      <td>0</td>\n",
              "    </tr>\n",
              "    <tr>\n",
              "      <th>4</th>\n",
              "      <td>5</td>\n",
              "      <td>50000</td>\n",
              "      <td>1</td>\n",
              "      <td>2</td>\n",
              "      <td>1</td>\n",
              "      <td>57</td>\n",
              "      <td>-1</td>\n",
              "      <td>0</td>\n",
              "      <td>-1</td>\n",
              "      <td>0</td>\n",
              "      <td>...</td>\n",
              "      <td>20940</td>\n",
              "      <td>19146</td>\n",
              "      <td>19131</td>\n",
              "      <td>2000</td>\n",
              "      <td>36681</td>\n",
              "      <td>10000</td>\n",
              "      <td>9000</td>\n",
              "      <td>689</td>\n",
              "      <td>679</td>\n",
              "      <td>0</td>\n",
              "    </tr>\n",
              "  </tbody>\n",
              "</table>\n",
              "<p>5 rows × 25 columns</p>\n",
              "</div>\n",
              "      <button class=\"colab-df-convert\" onclick=\"convertToInteractive('df-fa243a0e-0338-4af3-8332-5117bb296fbb')\"\n",
              "              title=\"Convert this dataframe to an interactive table.\"\n",
              "              style=\"display:none;\">\n",
              "        \n",
              "  <svg xmlns=\"http://www.w3.org/2000/svg\" height=\"24px\"viewBox=\"0 0 24 24\"\n",
              "       width=\"24px\">\n",
              "    <path d=\"M0 0h24v24H0V0z\" fill=\"none\"/>\n",
              "    <path d=\"M18.56 5.44l.94 2.06.94-2.06 2.06-.94-2.06-.94-.94-2.06-.94 2.06-2.06.94zm-11 1L8.5 8.5l.94-2.06 2.06-.94-2.06-.94L8.5 2.5l-.94 2.06-2.06.94zm10 10l.94 2.06.94-2.06 2.06-.94-2.06-.94-.94-2.06-.94 2.06-2.06.94z\"/><path d=\"M17.41 7.96l-1.37-1.37c-.4-.4-.92-.59-1.43-.59-.52 0-1.04.2-1.43.59L10.3 9.45l-7.72 7.72c-.78.78-.78 2.05 0 2.83L4 21.41c.39.39.9.59 1.41.59.51 0 1.02-.2 1.41-.59l7.78-7.78 2.81-2.81c.8-.78.8-2.07 0-2.86zM5.41 20L4 18.59l7.72-7.72 1.47 1.35L5.41 20z\"/>\n",
              "  </svg>\n",
              "      </button>\n",
              "      \n",
              "  <style>\n",
              "    .colab-df-container {\n",
              "      display:flex;\n",
              "      flex-wrap:wrap;\n",
              "      gap: 12px;\n",
              "    }\n",
              "\n",
              "    .colab-df-convert {\n",
              "      background-color: #E8F0FE;\n",
              "      border: none;\n",
              "      border-radius: 50%;\n",
              "      cursor: pointer;\n",
              "      display: none;\n",
              "      fill: #1967D2;\n",
              "      height: 32px;\n",
              "      padding: 0 0 0 0;\n",
              "      width: 32px;\n",
              "    }\n",
              "\n",
              "    .colab-df-convert:hover {\n",
              "      background-color: #E2EBFA;\n",
              "      box-shadow: 0px 1px 2px rgba(60, 64, 67, 0.3), 0px 1px 3px 1px rgba(60, 64, 67, 0.15);\n",
              "      fill: #174EA6;\n",
              "    }\n",
              "\n",
              "    [theme=dark] .colab-df-convert {\n",
              "      background-color: #3B4455;\n",
              "      fill: #D2E3FC;\n",
              "    }\n",
              "\n",
              "    [theme=dark] .colab-df-convert:hover {\n",
              "      background-color: #434B5C;\n",
              "      box-shadow: 0px 1px 3px 1px rgba(0, 0, 0, 0.15);\n",
              "      filter: drop-shadow(0px 1px 2px rgba(0, 0, 0, 0.3));\n",
              "      fill: #FFFFFF;\n",
              "    }\n",
              "  </style>\n",
              "\n",
              "      <script>\n",
              "        const buttonEl =\n",
              "          document.querySelector('#df-fa243a0e-0338-4af3-8332-5117bb296fbb button.colab-df-convert');\n",
              "        buttonEl.style.display =\n",
              "          google.colab.kernel.accessAllowed ? 'block' : 'none';\n",
              "\n",
              "        async function convertToInteractive(key) {\n",
              "          const element = document.querySelector('#df-fa243a0e-0338-4af3-8332-5117bb296fbb');\n",
              "          const dataTable =\n",
              "            await google.colab.kernel.invokeFunction('convertToInteractive',\n",
              "                                                     [key], {});\n",
              "          if (!dataTable) return;\n",
              "\n",
              "          const docLinkHtml = 'Like what you see? Visit the ' +\n",
              "            '<a target=\"_blank\" href=https://colab.research.google.com/notebooks/data_table.ipynb>data table notebook</a>'\n",
              "            + ' to learn more about interactive tables.';\n",
              "          element.innerHTML = '';\n",
              "          dataTable['output_type'] = 'display_data';\n",
              "          await google.colab.output.renderOutput(dataTable, element);\n",
              "          const docLink = document.createElement('div');\n",
              "          docLink.innerHTML = docLinkHtml;\n",
              "          element.appendChild(docLink);\n",
              "        }\n",
              "      </script>\n",
              "    </div>\n",
              "  </div>\n",
              "  "
            ]
          },
          "metadata": {},
          "execution_count": 59
        }
      ]
    },
    {
      "cell_type": "code",
      "source": [
        "credit_df.tail()"
      ],
      "metadata": {
        "id": "ouHUGZAH0jR0",
        "colab": {
          "base_uri": "https://localhost:8080/",
          "height": 351
        },
        "outputId": "45f1a311-fefa-4f7e-ea5a-21746164dff5"
      },
      "execution_count": 60,
      "outputs": [
        {
          "output_type": "execute_result",
          "data": {
            "text/plain": [
              "          ID  LIMIT_BAL  SEX  EDUCATION  MARRIAGE  AGE  PAY_0  PAY_2  PAY_3  \\\n",
              "29995  29996     220000    1          3         1   39      0      0      0   \n",
              "29996  29997     150000    1          3         2   43     -1     -1     -1   \n",
              "29997  29998      30000    1          2         2   37      4      3      2   \n",
              "29998  29999      80000    1          3         1   41      1     -1      0   \n",
              "29999  30000      50000    1          2         1   46      0      0      0   \n",
              "\n",
              "       PAY_4  ...  BILL_AMT4  BILL_AMT5  BILL_AMT6  PAY_AMT1  PAY_AMT2  \\\n",
              "29995      0  ...      88004      31237      15980      8500     20000   \n",
              "29996     -1  ...       8979       5190          0      1837      3526   \n",
              "29997     -1  ...      20878      20582      19357         0         0   \n",
              "29998      0  ...      52774      11855      48944     85900      3409   \n",
              "29999      0  ...      36535      32428      15313      2078      1800   \n",
              "\n",
              "       PAY_AMT3  PAY_AMT4  PAY_AMT5  PAY_AMT6  default payment next month  \n",
              "29995      5003      3047      5000      1000                           0  \n",
              "29996      8998       129         0         0                           0  \n",
              "29997     22000      4200      2000      3100                           1  \n",
              "29998      1178      1926     52964      1804                           1  \n",
              "29999      1430      1000      1000      1000                           1  \n",
              "\n",
              "[5 rows x 25 columns]"
            ],
            "text/html": [
              "\n",
              "  <div id=\"df-7ac5bf62-1ee4-4159-8adb-79f5775c0f2b\">\n",
              "    <div class=\"colab-df-container\">\n",
              "      <div>\n",
              "<style scoped>\n",
              "    .dataframe tbody tr th:only-of-type {\n",
              "        vertical-align: middle;\n",
              "    }\n",
              "\n",
              "    .dataframe tbody tr th {\n",
              "        vertical-align: top;\n",
              "    }\n",
              "\n",
              "    .dataframe thead th {\n",
              "        text-align: right;\n",
              "    }\n",
              "</style>\n",
              "<table border=\"1\" class=\"dataframe\">\n",
              "  <thead>\n",
              "    <tr style=\"text-align: right;\">\n",
              "      <th></th>\n",
              "      <th>ID</th>\n",
              "      <th>LIMIT_BAL</th>\n",
              "      <th>SEX</th>\n",
              "      <th>EDUCATION</th>\n",
              "      <th>MARRIAGE</th>\n",
              "      <th>AGE</th>\n",
              "      <th>PAY_0</th>\n",
              "      <th>PAY_2</th>\n",
              "      <th>PAY_3</th>\n",
              "      <th>PAY_4</th>\n",
              "      <th>...</th>\n",
              "      <th>BILL_AMT4</th>\n",
              "      <th>BILL_AMT5</th>\n",
              "      <th>BILL_AMT6</th>\n",
              "      <th>PAY_AMT1</th>\n",
              "      <th>PAY_AMT2</th>\n",
              "      <th>PAY_AMT3</th>\n",
              "      <th>PAY_AMT4</th>\n",
              "      <th>PAY_AMT5</th>\n",
              "      <th>PAY_AMT6</th>\n",
              "      <th>default payment next month</th>\n",
              "    </tr>\n",
              "  </thead>\n",
              "  <tbody>\n",
              "    <tr>\n",
              "      <th>29995</th>\n",
              "      <td>29996</td>\n",
              "      <td>220000</td>\n",
              "      <td>1</td>\n",
              "      <td>3</td>\n",
              "      <td>1</td>\n",
              "      <td>39</td>\n",
              "      <td>0</td>\n",
              "      <td>0</td>\n",
              "      <td>0</td>\n",
              "      <td>0</td>\n",
              "      <td>...</td>\n",
              "      <td>88004</td>\n",
              "      <td>31237</td>\n",
              "      <td>15980</td>\n",
              "      <td>8500</td>\n",
              "      <td>20000</td>\n",
              "      <td>5003</td>\n",
              "      <td>3047</td>\n",
              "      <td>5000</td>\n",
              "      <td>1000</td>\n",
              "      <td>0</td>\n",
              "    </tr>\n",
              "    <tr>\n",
              "      <th>29996</th>\n",
              "      <td>29997</td>\n",
              "      <td>150000</td>\n",
              "      <td>1</td>\n",
              "      <td>3</td>\n",
              "      <td>2</td>\n",
              "      <td>43</td>\n",
              "      <td>-1</td>\n",
              "      <td>-1</td>\n",
              "      <td>-1</td>\n",
              "      <td>-1</td>\n",
              "      <td>...</td>\n",
              "      <td>8979</td>\n",
              "      <td>5190</td>\n",
              "      <td>0</td>\n",
              "      <td>1837</td>\n",
              "      <td>3526</td>\n",
              "      <td>8998</td>\n",
              "      <td>129</td>\n",
              "      <td>0</td>\n",
              "      <td>0</td>\n",
              "      <td>0</td>\n",
              "    </tr>\n",
              "    <tr>\n",
              "      <th>29997</th>\n",
              "      <td>29998</td>\n",
              "      <td>30000</td>\n",
              "      <td>1</td>\n",
              "      <td>2</td>\n",
              "      <td>2</td>\n",
              "      <td>37</td>\n",
              "      <td>4</td>\n",
              "      <td>3</td>\n",
              "      <td>2</td>\n",
              "      <td>-1</td>\n",
              "      <td>...</td>\n",
              "      <td>20878</td>\n",
              "      <td>20582</td>\n",
              "      <td>19357</td>\n",
              "      <td>0</td>\n",
              "      <td>0</td>\n",
              "      <td>22000</td>\n",
              "      <td>4200</td>\n",
              "      <td>2000</td>\n",
              "      <td>3100</td>\n",
              "      <td>1</td>\n",
              "    </tr>\n",
              "    <tr>\n",
              "      <th>29998</th>\n",
              "      <td>29999</td>\n",
              "      <td>80000</td>\n",
              "      <td>1</td>\n",
              "      <td>3</td>\n",
              "      <td>1</td>\n",
              "      <td>41</td>\n",
              "      <td>1</td>\n",
              "      <td>-1</td>\n",
              "      <td>0</td>\n",
              "      <td>0</td>\n",
              "      <td>...</td>\n",
              "      <td>52774</td>\n",
              "      <td>11855</td>\n",
              "      <td>48944</td>\n",
              "      <td>85900</td>\n",
              "      <td>3409</td>\n",
              "      <td>1178</td>\n",
              "      <td>1926</td>\n",
              "      <td>52964</td>\n",
              "      <td>1804</td>\n",
              "      <td>1</td>\n",
              "    </tr>\n",
              "    <tr>\n",
              "      <th>29999</th>\n",
              "      <td>30000</td>\n",
              "      <td>50000</td>\n",
              "      <td>1</td>\n",
              "      <td>2</td>\n",
              "      <td>1</td>\n",
              "      <td>46</td>\n",
              "      <td>0</td>\n",
              "      <td>0</td>\n",
              "      <td>0</td>\n",
              "      <td>0</td>\n",
              "      <td>...</td>\n",
              "      <td>36535</td>\n",
              "      <td>32428</td>\n",
              "      <td>15313</td>\n",
              "      <td>2078</td>\n",
              "      <td>1800</td>\n",
              "      <td>1430</td>\n",
              "      <td>1000</td>\n",
              "      <td>1000</td>\n",
              "      <td>1000</td>\n",
              "      <td>1</td>\n",
              "    </tr>\n",
              "  </tbody>\n",
              "</table>\n",
              "<p>5 rows × 25 columns</p>\n",
              "</div>\n",
              "      <button class=\"colab-df-convert\" onclick=\"convertToInteractive('df-7ac5bf62-1ee4-4159-8adb-79f5775c0f2b')\"\n",
              "              title=\"Convert this dataframe to an interactive table.\"\n",
              "              style=\"display:none;\">\n",
              "        \n",
              "  <svg xmlns=\"http://www.w3.org/2000/svg\" height=\"24px\"viewBox=\"0 0 24 24\"\n",
              "       width=\"24px\">\n",
              "    <path d=\"M0 0h24v24H0V0z\" fill=\"none\"/>\n",
              "    <path d=\"M18.56 5.44l.94 2.06.94-2.06 2.06-.94-2.06-.94-.94-2.06-.94 2.06-2.06.94zm-11 1L8.5 8.5l.94-2.06 2.06-.94-2.06-.94L8.5 2.5l-.94 2.06-2.06.94zm10 10l.94 2.06.94-2.06 2.06-.94-2.06-.94-.94-2.06-.94 2.06-2.06.94z\"/><path d=\"M17.41 7.96l-1.37-1.37c-.4-.4-.92-.59-1.43-.59-.52 0-1.04.2-1.43.59L10.3 9.45l-7.72 7.72c-.78.78-.78 2.05 0 2.83L4 21.41c.39.39.9.59 1.41.59.51 0 1.02-.2 1.41-.59l7.78-7.78 2.81-2.81c.8-.78.8-2.07 0-2.86zM5.41 20L4 18.59l7.72-7.72 1.47 1.35L5.41 20z\"/>\n",
              "  </svg>\n",
              "      </button>\n",
              "      \n",
              "  <style>\n",
              "    .colab-df-container {\n",
              "      display:flex;\n",
              "      flex-wrap:wrap;\n",
              "      gap: 12px;\n",
              "    }\n",
              "\n",
              "    .colab-df-convert {\n",
              "      background-color: #E8F0FE;\n",
              "      border: none;\n",
              "      border-radius: 50%;\n",
              "      cursor: pointer;\n",
              "      display: none;\n",
              "      fill: #1967D2;\n",
              "      height: 32px;\n",
              "      padding: 0 0 0 0;\n",
              "      width: 32px;\n",
              "    }\n",
              "\n",
              "    .colab-df-convert:hover {\n",
              "      background-color: #E2EBFA;\n",
              "      box-shadow: 0px 1px 2px rgba(60, 64, 67, 0.3), 0px 1px 3px 1px rgba(60, 64, 67, 0.15);\n",
              "      fill: #174EA6;\n",
              "    }\n",
              "\n",
              "    [theme=dark] .colab-df-convert {\n",
              "      background-color: #3B4455;\n",
              "      fill: #D2E3FC;\n",
              "    }\n",
              "\n",
              "    [theme=dark] .colab-df-convert:hover {\n",
              "      background-color: #434B5C;\n",
              "      box-shadow: 0px 1px 3px 1px rgba(0, 0, 0, 0.15);\n",
              "      filter: drop-shadow(0px 1px 2px rgba(0, 0, 0, 0.3));\n",
              "      fill: #FFFFFF;\n",
              "    }\n",
              "  </style>\n",
              "\n",
              "      <script>\n",
              "        const buttonEl =\n",
              "          document.querySelector('#df-7ac5bf62-1ee4-4159-8adb-79f5775c0f2b button.colab-df-convert');\n",
              "        buttonEl.style.display =\n",
              "          google.colab.kernel.accessAllowed ? 'block' : 'none';\n",
              "\n",
              "        async function convertToInteractive(key) {\n",
              "          const element = document.querySelector('#df-7ac5bf62-1ee4-4159-8adb-79f5775c0f2b');\n",
              "          const dataTable =\n",
              "            await google.colab.kernel.invokeFunction('convertToInteractive',\n",
              "                                                     [key], {});\n",
              "          if (!dataTable) return;\n",
              "\n",
              "          const docLinkHtml = 'Like what you see? Visit the ' +\n",
              "            '<a target=\"_blank\" href=https://colab.research.google.com/notebooks/data_table.ipynb>data table notebook</a>'\n",
              "            + ' to learn more about interactive tables.';\n",
              "          element.innerHTML = '';\n",
              "          dataTable['output_type'] = 'display_data';\n",
              "          await google.colab.output.renderOutput(dataTable, element);\n",
              "          const docLink = document.createElement('div');\n",
              "          docLink.innerHTML = docLinkHtml;\n",
              "          element.appendChild(docLink);\n",
              "        }\n",
              "      </script>\n",
              "    </div>\n",
              "  </div>\n",
              "  "
            ]
          },
          "metadata": {},
          "execution_count": 60
        }
      ]
    },
    {
      "cell_type": "markdown",
      "source": [
        "###Dataset Rows & Columns"
      ],
      "metadata": {
        "id": "ZG_SlTCLdpmv"
      }
    },
    {
      "cell_type": "code",
      "source": [
        "credit_df.columns"
      ],
      "metadata": {
        "id": "JX-HCFyX19Rm",
        "colab": {
          "base_uri": "https://localhost:8080/"
        },
        "outputId": "4522bc81-1ed8-4cb8-b964-652c75ab8342"
      },
      "execution_count": 61,
      "outputs": [
        {
          "output_type": "execute_result",
          "data": {
            "text/plain": [
              "Index(['ID', 'LIMIT_BAL', 'SEX', 'EDUCATION', 'MARRIAGE', 'AGE', 'PAY_0',\n",
              "       'PAY_2', 'PAY_3', 'PAY_4', 'PAY_5', 'PAY_6', 'BILL_AMT1', 'BILL_AMT2',\n",
              "       'BILL_AMT3', 'BILL_AMT4', 'BILL_AMT5', 'BILL_AMT6', 'PAY_AMT1',\n",
              "       'PAY_AMT2', 'PAY_AMT3', 'PAY_AMT4', 'PAY_AMT5', 'PAY_AMT6',\n",
              "       'default payment next month'],\n",
              "      dtype='object')"
            ]
          },
          "metadata": {},
          "execution_count": 61
        }
      ]
    },
    {
      "cell_type": "code",
      "source": [
        "credit_df.shape"
      ],
      "metadata": {
        "id": "r98S0J1h2AI3",
        "colab": {
          "base_uri": "https://localhost:8080/"
        },
        "outputId": "5956a451-6a2d-4b3e-e7f1-b388fb678b8a"
      },
      "execution_count": 62,
      "outputs": [
        {
          "output_type": "execute_result",
          "data": {
            "text/plain": [
              "(30000, 25)"
            ]
          },
          "metadata": {},
          "execution_count": 62
        }
      ]
    },
    {
      "cell_type": "markdown",
      "source": [
        "###Dataset Information"
      ],
      "metadata": {
        "id": "CC9tCuM8dyX-"
      }
    },
    {
      "cell_type": "code",
      "source": [
        "credit_df.info()"
      ],
      "metadata": {
        "id": "oTyndTuU2_DS",
        "colab": {
          "base_uri": "https://localhost:8080/"
        },
        "outputId": "0556d60b-c382-401d-f029-dcd1352d7b5e"
      },
      "execution_count": 63,
      "outputs": [
        {
          "output_type": "stream",
          "name": "stdout",
          "text": [
            "<class 'pandas.core.frame.DataFrame'>\n",
            "RangeIndex: 30000 entries, 0 to 29999\n",
            "Data columns (total 25 columns):\n",
            " #   Column                      Non-Null Count  Dtype\n",
            "---  ------                      --------------  -----\n",
            " 0   ID                          30000 non-null  int64\n",
            " 1   LIMIT_BAL                   30000 non-null  int64\n",
            " 2   SEX                         30000 non-null  int64\n",
            " 3   EDUCATION                   30000 non-null  int64\n",
            " 4   MARRIAGE                    30000 non-null  int64\n",
            " 5   AGE                         30000 non-null  int64\n",
            " 6   PAY_0                       30000 non-null  int64\n",
            " 7   PAY_2                       30000 non-null  int64\n",
            " 8   PAY_3                       30000 non-null  int64\n",
            " 9   PAY_4                       30000 non-null  int64\n",
            " 10  PAY_5                       30000 non-null  int64\n",
            " 11  PAY_6                       30000 non-null  int64\n",
            " 12  BILL_AMT1                   30000 non-null  int64\n",
            " 13  BILL_AMT2                   30000 non-null  int64\n",
            " 14  BILL_AMT3                   30000 non-null  int64\n",
            " 15  BILL_AMT4                   30000 non-null  int64\n",
            " 16  BILL_AMT5                   30000 non-null  int64\n",
            " 17  BILL_AMT6                   30000 non-null  int64\n",
            " 18  PAY_AMT1                    30000 non-null  int64\n",
            " 19  PAY_AMT2                    30000 non-null  int64\n",
            " 20  PAY_AMT3                    30000 non-null  int64\n",
            " 21  PAY_AMT4                    30000 non-null  int64\n",
            " 22  PAY_AMT5                    30000 non-null  int64\n",
            " 23  PAY_AMT6                    30000 non-null  int64\n",
            " 24  default payment next month  30000 non-null  int64\n",
            "dtypes: int64(25)\n",
            "memory usage: 5.7 MB\n"
          ]
        }
      ]
    },
    {
      "cell_type": "code",
      "source": [
        "credit_df.describe()"
      ],
      "metadata": {
        "id": "pATWP-CL3JMC",
        "colab": {
          "base_uri": "https://localhost:8080/",
          "height": 428
        },
        "outputId": "03a59b55-1c51-41ba-a97d-c1a5b9abff5c"
      },
      "execution_count": 64,
      "outputs": [
        {
          "output_type": "execute_result",
          "data": {
            "text/plain": [
              "                 ID       LIMIT_BAL           SEX     EDUCATION      MARRIAGE  \\\n",
              "count  30000.000000    30000.000000  30000.000000  30000.000000  30000.000000   \n",
              "mean   15000.500000   167484.322667      1.603733      1.853133      1.551867   \n",
              "std     8660.398374   129747.661567      0.489129      0.790349      0.521970   \n",
              "min        1.000000    10000.000000      1.000000      0.000000      0.000000   \n",
              "25%     7500.750000    50000.000000      1.000000      1.000000      1.000000   \n",
              "50%    15000.500000   140000.000000      2.000000      2.000000      2.000000   \n",
              "75%    22500.250000   240000.000000      2.000000      2.000000      2.000000   \n",
              "max    30000.000000  1000000.000000      2.000000      6.000000      3.000000   \n",
              "\n",
              "                AGE         PAY_0         PAY_2         PAY_3         PAY_4  \\\n",
              "count  30000.000000  30000.000000  30000.000000  30000.000000  30000.000000   \n",
              "mean      35.485500     -0.016700     -0.133767     -0.166200     -0.220667   \n",
              "std        9.217904      1.123802      1.197186      1.196868      1.169139   \n",
              "min       21.000000     -2.000000     -2.000000     -2.000000     -2.000000   \n",
              "25%       28.000000     -1.000000     -1.000000     -1.000000     -1.000000   \n",
              "50%       34.000000      0.000000      0.000000      0.000000      0.000000   \n",
              "75%       41.000000      0.000000      0.000000      0.000000      0.000000   \n",
              "max       79.000000      8.000000      8.000000      8.000000      8.000000   \n",
              "\n",
              "       ...      BILL_AMT4      BILL_AMT5      BILL_AMT6       PAY_AMT1  \\\n",
              "count  ...   30000.000000   30000.000000   30000.000000   30000.000000   \n",
              "mean   ...   43262.948967   40311.400967   38871.760400    5663.580500   \n",
              "std    ...   64332.856134   60797.155770   59554.107537   16563.280354   \n",
              "min    ... -170000.000000  -81334.000000 -339603.000000       0.000000   \n",
              "25%    ...    2326.750000    1763.000000    1256.000000    1000.000000   \n",
              "50%    ...   19052.000000   18104.500000   17071.000000    2100.000000   \n",
              "75%    ...   54506.000000   50190.500000   49198.250000    5006.000000   \n",
              "max    ...  891586.000000  927171.000000  961664.000000  873552.000000   \n",
              "\n",
              "           PAY_AMT2      PAY_AMT3       PAY_AMT4       PAY_AMT5  \\\n",
              "count  3.000000e+04   30000.00000   30000.000000   30000.000000   \n",
              "mean   5.921163e+03    5225.68150    4826.076867    4799.387633   \n",
              "std    2.304087e+04   17606.96147   15666.159744   15278.305679   \n",
              "min    0.000000e+00       0.00000       0.000000       0.000000   \n",
              "25%    8.330000e+02     390.00000     296.000000     252.500000   \n",
              "50%    2.009000e+03    1800.00000    1500.000000    1500.000000   \n",
              "75%    5.000000e+03    4505.00000    4013.250000    4031.500000   \n",
              "max    1.684259e+06  896040.00000  621000.000000  426529.000000   \n",
              "\n",
              "            PAY_AMT6  default payment next month  \n",
              "count   30000.000000                30000.000000  \n",
              "mean     5215.502567                    0.221200  \n",
              "std     17777.465775                    0.415062  \n",
              "min         0.000000                    0.000000  \n",
              "25%       117.750000                    0.000000  \n",
              "50%      1500.000000                    0.000000  \n",
              "75%      4000.000000                    0.000000  \n",
              "max    528666.000000                    1.000000  \n",
              "\n",
              "[8 rows x 25 columns]"
            ],
            "text/html": [
              "\n",
              "  <div id=\"df-0b19126a-2356-47c5-a4a8-dcf52127f3c9\">\n",
              "    <div class=\"colab-df-container\">\n",
              "      <div>\n",
              "<style scoped>\n",
              "    .dataframe tbody tr th:only-of-type {\n",
              "        vertical-align: middle;\n",
              "    }\n",
              "\n",
              "    .dataframe tbody tr th {\n",
              "        vertical-align: top;\n",
              "    }\n",
              "\n",
              "    .dataframe thead th {\n",
              "        text-align: right;\n",
              "    }\n",
              "</style>\n",
              "<table border=\"1\" class=\"dataframe\">\n",
              "  <thead>\n",
              "    <tr style=\"text-align: right;\">\n",
              "      <th></th>\n",
              "      <th>ID</th>\n",
              "      <th>LIMIT_BAL</th>\n",
              "      <th>SEX</th>\n",
              "      <th>EDUCATION</th>\n",
              "      <th>MARRIAGE</th>\n",
              "      <th>AGE</th>\n",
              "      <th>PAY_0</th>\n",
              "      <th>PAY_2</th>\n",
              "      <th>PAY_3</th>\n",
              "      <th>PAY_4</th>\n",
              "      <th>...</th>\n",
              "      <th>BILL_AMT4</th>\n",
              "      <th>BILL_AMT5</th>\n",
              "      <th>BILL_AMT6</th>\n",
              "      <th>PAY_AMT1</th>\n",
              "      <th>PAY_AMT2</th>\n",
              "      <th>PAY_AMT3</th>\n",
              "      <th>PAY_AMT4</th>\n",
              "      <th>PAY_AMT5</th>\n",
              "      <th>PAY_AMT6</th>\n",
              "      <th>default payment next month</th>\n",
              "    </tr>\n",
              "  </thead>\n",
              "  <tbody>\n",
              "    <tr>\n",
              "      <th>count</th>\n",
              "      <td>30000.000000</td>\n",
              "      <td>30000.000000</td>\n",
              "      <td>30000.000000</td>\n",
              "      <td>30000.000000</td>\n",
              "      <td>30000.000000</td>\n",
              "      <td>30000.000000</td>\n",
              "      <td>30000.000000</td>\n",
              "      <td>30000.000000</td>\n",
              "      <td>30000.000000</td>\n",
              "      <td>30000.000000</td>\n",
              "      <td>...</td>\n",
              "      <td>30000.000000</td>\n",
              "      <td>30000.000000</td>\n",
              "      <td>30000.000000</td>\n",
              "      <td>30000.000000</td>\n",
              "      <td>3.000000e+04</td>\n",
              "      <td>30000.00000</td>\n",
              "      <td>30000.000000</td>\n",
              "      <td>30000.000000</td>\n",
              "      <td>30000.000000</td>\n",
              "      <td>30000.000000</td>\n",
              "    </tr>\n",
              "    <tr>\n",
              "      <th>mean</th>\n",
              "      <td>15000.500000</td>\n",
              "      <td>167484.322667</td>\n",
              "      <td>1.603733</td>\n",
              "      <td>1.853133</td>\n",
              "      <td>1.551867</td>\n",
              "      <td>35.485500</td>\n",
              "      <td>-0.016700</td>\n",
              "      <td>-0.133767</td>\n",
              "      <td>-0.166200</td>\n",
              "      <td>-0.220667</td>\n",
              "      <td>...</td>\n",
              "      <td>43262.948967</td>\n",
              "      <td>40311.400967</td>\n",
              "      <td>38871.760400</td>\n",
              "      <td>5663.580500</td>\n",
              "      <td>5.921163e+03</td>\n",
              "      <td>5225.68150</td>\n",
              "      <td>4826.076867</td>\n",
              "      <td>4799.387633</td>\n",
              "      <td>5215.502567</td>\n",
              "      <td>0.221200</td>\n",
              "    </tr>\n",
              "    <tr>\n",
              "      <th>std</th>\n",
              "      <td>8660.398374</td>\n",
              "      <td>129747.661567</td>\n",
              "      <td>0.489129</td>\n",
              "      <td>0.790349</td>\n",
              "      <td>0.521970</td>\n",
              "      <td>9.217904</td>\n",
              "      <td>1.123802</td>\n",
              "      <td>1.197186</td>\n",
              "      <td>1.196868</td>\n",
              "      <td>1.169139</td>\n",
              "      <td>...</td>\n",
              "      <td>64332.856134</td>\n",
              "      <td>60797.155770</td>\n",
              "      <td>59554.107537</td>\n",
              "      <td>16563.280354</td>\n",
              "      <td>2.304087e+04</td>\n",
              "      <td>17606.96147</td>\n",
              "      <td>15666.159744</td>\n",
              "      <td>15278.305679</td>\n",
              "      <td>17777.465775</td>\n",
              "      <td>0.415062</td>\n",
              "    </tr>\n",
              "    <tr>\n",
              "      <th>min</th>\n",
              "      <td>1.000000</td>\n",
              "      <td>10000.000000</td>\n",
              "      <td>1.000000</td>\n",
              "      <td>0.000000</td>\n",
              "      <td>0.000000</td>\n",
              "      <td>21.000000</td>\n",
              "      <td>-2.000000</td>\n",
              "      <td>-2.000000</td>\n",
              "      <td>-2.000000</td>\n",
              "      <td>-2.000000</td>\n",
              "      <td>...</td>\n",
              "      <td>-170000.000000</td>\n",
              "      <td>-81334.000000</td>\n",
              "      <td>-339603.000000</td>\n",
              "      <td>0.000000</td>\n",
              "      <td>0.000000e+00</td>\n",
              "      <td>0.00000</td>\n",
              "      <td>0.000000</td>\n",
              "      <td>0.000000</td>\n",
              "      <td>0.000000</td>\n",
              "      <td>0.000000</td>\n",
              "    </tr>\n",
              "    <tr>\n",
              "      <th>25%</th>\n",
              "      <td>7500.750000</td>\n",
              "      <td>50000.000000</td>\n",
              "      <td>1.000000</td>\n",
              "      <td>1.000000</td>\n",
              "      <td>1.000000</td>\n",
              "      <td>28.000000</td>\n",
              "      <td>-1.000000</td>\n",
              "      <td>-1.000000</td>\n",
              "      <td>-1.000000</td>\n",
              "      <td>-1.000000</td>\n",
              "      <td>...</td>\n",
              "      <td>2326.750000</td>\n",
              "      <td>1763.000000</td>\n",
              "      <td>1256.000000</td>\n",
              "      <td>1000.000000</td>\n",
              "      <td>8.330000e+02</td>\n",
              "      <td>390.00000</td>\n",
              "      <td>296.000000</td>\n",
              "      <td>252.500000</td>\n",
              "      <td>117.750000</td>\n",
              "      <td>0.000000</td>\n",
              "    </tr>\n",
              "    <tr>\n",
              "      <th>50%</th>\n",
              "      <td>15000.500000</td>\n",
              "      <td>140000.000000</td>\n",
              "      <td>2.000000</td>\n",
              "      <td>2.000000</td>\n",
              "      <td>2.000000</td>\n",
              "      <td>34.000000</td>\n",
              "      <td>0.000000</td>\n",
              "      <td>0.000000</td>\n",
              "      <td>0.000000</td>\n",
              "      <td>0.000000</td>\n",
              "      <td>...</td>\n",
              "      <td>19052.000000</td>\n",
              "      <td>18104.500000</td>\n",
              "      <td>17071.000000</td>\n",
              "      <td>2100.000000</td>\n",
              "      <td>2.009000e+03</td>\n",
              "      <td>1800.00000</td>\n",
              "      <td>1500.000000</td>\n",
              "      <td>1500.000000</td>\n",
              "      <td>1500.000000</td>\n",
              "      <td>0.000000</td>\n",
              "    </tr>\n",
              "    <tr>\n",
              "      <th>75%</th>\n",
              "      <td>22500.250000</td>\n",
              "      <td>240000.000000</td>\n",
              "      <td>2.000000</td>\n",
              "      <td>2.000000</td>\n",
              "      <td>2.000000</td>\n",
              "      <td>41.000000</td>\n",
              "      <td>0.000000</td>\n",
              "      <td>0.000000</td>\n",
              "      <td>0.000000</td>\n",
              "      <td>0.000000</td>\n",
              "      <td>...</td>\n",
              "      <td>54506.000000</td>\n",
              "      <td>50190.500000</td>\n",
              "      <td>49198.250000</td>\n",
              "      <td>5006.000000</td>\n",
              "      <td>5.000000e+03</td>\n",
              "      <td>4505.00000</td>\n",
              "      <td>4013.250000</td>\n",
              "      <td>4031.500000</td>\n",
              "      <td>4000.000000</td>\n",
              "      <td>0.000000</td>\n",
              "    </tr>\n",
              "    <tr>\n",
              "      <th>max</th>\n",
              "      <td>30000.000000</td>\n",
              "      <td>1000000.000000</td>\n",
              "      <td>2.000000</td>\n",
              "      <td>6.000000</td>\n",
              "      <td>3.000000</td>\n",
              "      <td>79.000000</td>\n",
              "      <td>8.000000</td>\n",
              "      <td>8.000000</td>\n",
              "      <td>8.000000</td>\n",
              "      <td>8.000000</td>\n",
              "      <td>...</td>\n",
              "      <td>891586.000000</td>\n",
              "      <td>927171.000000</td>\n",
              "      <td>961664.000000</td>\n",
              "      <td>873552.000000</td>\n",
              "      <td>1.684259e+06</td>\n",
              "      <td>896040.00000</td>\n",
              "      <td>621000.000000</td>\n",
              "      <td>426529.000000</td>\n",
              "      <td>528666.000000</td>\n",
              "      <td>1.000000</td>\n",
              "    </tr>\n",
              "  </tbody>\n",
              "</table>\n",
              "<p>8 rows × 25 columns</p>\n",
              "</div>\n",
              "      <button class=\"colab-df-convert\" onclick=\"convertToInteractive('df-0b19126a-2356-47c5-a4a8-dcf52127f3c9')\"\n",
              "              title=\"Convert this dataframe to an interactive table.\"\n",
              "              style=\"display:none;\">\n",
              "        \n",
              "  <svg xmlns=\"http://www.w3.org/2000/svg\" height=\"24px\"viewBox=\"0 0 24 24\"\n",
              "       width=\"24px\">\n",
              "    <path d=\"M0 0h24v24H0V0z\" fill=\"none\"/>\n",
              "    <path d=\"M18.56 5.44l.94 2.06.94-2.06 2.06-.94-2.06-.94-.94-2.06-.94 2.06-2.06.94zm-11 1L8.5 8.5l.94-2.06 2.06-.94-2.06-.94L8.5 2.5l-.94 2.06-2.06.94zm10 10l.94 2.06.94-2.06 2.06-.94-2.06-.94-.94-2.06-.94 2.06-2.06.94z\"/><path d=\"M17.41 7.96l-1.37-1.37c-.4-.4-.92-.59-1.43-.59-.52 0-1.04.2-1.43.59L10.3 9.45l-7.72 7.72c-.78.78-.78 2.05 0 2.83L4 21.41c.39.39.9.59 1.41.59.51 0 1.02-.2 1.41-.59l7.78-7.78 2.81-2.81c.8-.78.8-2.07 0-2.86zM5.41 20L4 18.59l7.72-7.72 1.47 1.35L5.41 20z\"/>\n",
              "  </svg>\n",
              "      </button>\n",
              "      \n",
              "  <style>\n",
              "    .colab-df-container {\n",
              "      display:flex;\n",
              "      flex-wrap:wrap;\n",
              "      gap: 12px;\n",
              "    }\n",
              "\n",
              "    .colab-df-convert {\n",
              "      background-color: #E8F0FE;\n",
              "      border: none;\n",
              "      border-radius: 50%;\n",
              "      cursor: pointer;\n",
              "      display: none;\n",
              "      fill: #1967D2;\n",
              "      height: 32px;\n",
              "      padding: 0 0 0 0;\n",
              "      width: 32px;\n",
              "    }\n",
              "\n",
              "    .colab-df-convert:hover {\n",
              "      background-color: #E2EBFA;\n",
              "      box-shadow: 0px 1px 2px rgba(60, 64, 67, 0.3), 0px 1px 3px 1px rgba(60, 64, 67, 0.15);\n",
              "      fill: #174EA6;\n",
              "    }\n",
              "\n",
              "    [theme=dark] .colab-df-convert {\n",
              "      background-color: #3B4455;\n",
              "      fill: #D2E3FC;\n",
              "    }\n",
              "\n",
              "    [theme=dark] .colab-df-convert:hover {\n",
              "      background-color: #434B5C;\n",
              "      box-shadow: 0px 1px 3px 1px rgba(0, 0, 0, 0.15);\n",
              "      filter: drop-shadow(0px 1px 2px rgba(0, 0, 0, 0.3));\n",
              "      fill: #FFFFFF;\n",
              "    }\n",
              "  </style>\n",
              "\n",
              "      <script>\n",
              "        const buttonEl =\n",
              "          document.querySelector('#df-0b19126a-2356-47c5-a4a8-dcf52127f3c9 button.colab-df-convert');\n",
              "        buttonEl.style.display =\n",
              "          google.colab.kernel.accessAllowed ? 'block' : 'none';\n",
              "\n",
              "        async function convertToInteractive(key) {\n",
              "          const element = document.querySelector('#df-0b19126a-2356-47c5-a4a8-dcf52127f3c9');\n",
              "          const dataTable =\n",
              "            await google.colab.kernel.invokeFunction('convertToInteractive',\n",
              "                                                     [key], {});\n",
              "          if (!dataTable) return;\n",
              "\n",
              "          const docLinkHtml = 'Like what you see? Visit the ' +\n",
              "            '<a target=\"_blank\" href=https://colab.research.google.com/notebooks/data_table.ipynb>data table notebook</a>'\n",
              "            + ' to learn more about interactive tables.';\n",
              "          element.innerHTML = '';\n",
              "          dataTable['output_type'] = 'display_data';\n",
              "          await google.colab.output.renderOutput(dataTable, element);\n",
              "          const docLink = document.createElement('div');\n",
              "          docLink.innerHTML = docLinkHtml;\n",
              "          element.appendChild(docLink);\n",
              "        }\n",
              "      </script>\n",
              "    </div>\n",
              "  </div>\n",
              "  "
            ]
          },
          "metadata": {},
          "execution_count": 64
        }
      ]
    },
    {
      "cell_type": "markdown",
      "source": [
        "###Missing Values/Null Values"
      ],
      "metadata": {
        "id": "JPSbKigMd7Yn"
      }
    },
    {
      "cell_type": "code",
      "source": [
        "credit_df.isnull().sum()"
      ],
      "metadata": {
        "id": "88dO6z7j3KqQ",
        "colab": {
          "base_uri": "https://localhost:8080/"
        },
        "outputId": "8de5ac1f-54b8-49b8-a128-b9e9c086b8ab"
      },
      "execution_count": 65,
      "outputs": [
        {
          "output_type": "execute_result",
          "data": {
            "text/plain": [
              "ID                            0\n",
              "LIMIT_BAL                     0\n",
              "SEX                           0\n",
              "EDUCATION                     0\n",
              "MARRIAGE                      0\n",
              "AGE                           0\n",
              "PAY_0                         0\n",
              "PAY_2                         0\n",
              "PAY_3                         0\n",
              "PAY_4                         0\n",
              "PAY_5                         0\n",
              "PAY_6                         0\n",
              "BILL_AMT1                     0\n",
              "BILL_AMT2                     0\n",
              "BILL_AMT3                     0\n",
              "BILL_AMT4                     0\n",
              "BILL_AMT5                     0\n",
              "BILL_AMT6                     0\n",
              "PAY_AMT1                      0\n",
              "PAY_AMT2                      0\n",
              "PAY_AMT3                      0\n",
              "PAY_AMT4                      0\n",
              "PAY_AMT5                      0\n",
              "PAY_AMT6                      0\n",
              "default payment next month    0\n",
              "dtype: int64"
            ]
          },
          "metadata": {},
          "execution_count": 65
        }
      ]
    },
    {
      "cell_type": "code",
      "source": [
        "sns.heatmap(credit_df.isnull())"
      ],
      "metadata": {
        "id": "DESErnYu4nXg",
        "colab": {
          "base_uri": "https://localhost:8080/",
          "height": 474
        },
        "outputId": "811a056a-6a27-403a-994f-24fa2e0dc82e"
      },
      "execution_count": 66,
      "outputs": [
        {
          "output_type": "execute_result",
          "data": {
            "text/plain": [
              "<matplotlib.axes._subplots.AxesSubplot at 0x7f2e5ea89dc0>"
            ]
          },
          "metadata": {},
          "execution_count": 66
        },
        {
          "output_type": "display_data",
          "data": {
            "text/plain": [
              "<Figure size 432x288 with 2 Axes>"
            ],
            "image/png": "[encoded data removed]"
          },
          "metadata": {
            "needs_background": "light"
          }
        }
      ]
    },
    {
      "cell_type": "code",
      "source": [
        "#Writing a define function to obtain variable, dtypes,count,unique,duplicate,missing values in a single dataframe\n",
        "def show_missing(df):\n",
        "   \n",
        "    \n",
        "    variables = []\n",
        "    dtypes = []\n",
        "    count = []\n",
        "    unique = []\n",
        "    duplicate = []\n",
        "    missing = []\n",
        "    \n",
        "    for item in df.columns:\n",
        "        variables.append(item)\n",
        "        dtypes.append(df[item].dtype)\n",
        "        count.append(len(df[item]))\n",
        "        unique.append(len(df[item].unique()))\n",
        "        duplicate.append(df.duplicated().sum())\n",
        "        missing.append(df[item].isna().sum())\n",
        "        \n",
        "\n",
        "    output = pd.DataFrame({\n",
        "        'variable': variables, \n",
        "        'dtype': dtypes,\n",
        "        'count': count,\n",
        "        'unique': unique,\n",
        "        'duplicate' : duplicate,\n",
        "        'missing': missing, \n",
        "        \n",
        "    })    \n",
        "        \n",
        "    return output"
      ],
      "metadata": {
        "id": "cUFemFdb3gDN"
      },
      "execution_count": 67,
      "outputs": []
    },
    {
      "cell_type": "code",
      "source": [
        "show_missing(credit_df)"
      ],
      "metadata": {
        "id": "JWQ6KJNQ33l2",
        "colab": {
          "base_uri": "https://localhost:8080/",
          "height": 833
        },
        "outputId": "e6a28679-252b-4117-d39d-edcad3adcdb5"
      },
      "execution_count": 68,
      "outputs": [
        {
          "output_type": "execute_result",
          "data": {
            "text/plain": [
              "                      variable  dtype  count  unique  duplicate  missing\n",
              "0                           ID  int64  30000   30000          0        0\n",
              "1                    LIMIT_BAL  int64  30000      81          0        0\n",
              "2                          SEX  int64  30000       2          0        0\n",
              "3                    EDUCATION  int64  30000       7          0        0\n",
              "4                     MARRIAGE  int64  30000       4          0        0\n",
              "5                          AGE  int64  30000      56          0        0\n",
              "6                        PAY_0  int64  30000      11          0        0\n",
              "7                        PAY_2  int64  30000      11          0        0\n",
              "8                        PAY_3  int64  30000      11          0        0\n",
              "9                        PAY_4  int64  30000      11          0        0\n",
              "10                       PAY_5  int64  30000      10          0        0\n",
              "11                       PAY_6  int64  30000      10          0        0\n",
              "12                   BILL_AMT1  int64  30000   22723          0        0\n",
              "13                   BILL_AMT2  int64  30000   22346          0        0\n",
              "14                   BILL_AMT3  int64  30000   22026          0        0\n",
              "15                   BILL_AMT4  int64  30000   21548          0        0\n",
              "16                   BILL_AMT5  int64  30000   21010          0        0\n",
              "17                   BILL_AMT6  int64  30000   20604          0        0\n",
              "18                    PAY_AMT1  int64  30000    7943          0        0\n",
              "19                    PAY_AMT2  int64  30000    7899          0        0\n",
              "20                    PAY_AMT3  int64  30000    7518          0        0\n",
              "21                    PAY_AMT4  int64  30000    6937          0        0\n",
              "22                    PAY_AMT5  int64  30000    6897          0        0\n",
              "23                    PAY_AMT6  int64  30000    6939          0        0\n",
              "24  default payment next month  int64  30000       2          0        0"
            ],
            "text/html": [
              "\n",
              "  <div id=\"df-3839b684-ba21-42b8-8230-5ef3d27a6794\">\n",
              "    <div class=\"colab-df-container\">\n",
              "      <div>\n",
              "<style scoped>\n",
              "    .dataframe tbody tr th:only-of-type {\n",
              "        vertical-align: middle;\n",
              "    }\n",
              "\n",
              "    .dataframe tbody tr th {\n",
              "        vertical-align: top;\n",
              "    }\n",
              "\n",
              "    .dataframe thead th {\n",
              "        text-align: right;\n",
              "    }\n",
              "</style>\n",
              "<table border=\"1\" class=\"dataframe\">\n",
              "  <thead>\n",
              "    <tr style=\"text-align: right;\">\n",
              "      <th></th>\n",
              "      <th>variable</th>\n",
              "      <th>dtype</th>\n",
              "      <th>count</th>\n",
              "      <th>unique</th>\n",
              "      <th>duplicate</th>\n",
              "      <th>missing</th>\n",
              "    </tr>\n",
              "  </thead>\n",
              "  <tbody>\n",
              "    <tr>\n",
              "      <th>0</th>\n",
              "      <td>ID</td>\n",
              "      <td>int64</td>\n",
              "      <td>30000</td>\n",
              "      <td>30000</td>\n",
              "      <td>0</td>\n",
              "      <td>0</td>\n",
              "    </tr>\n",
              "    <tr>\n",
              "      <th>1</th>\n",
              "      <td>LIMIT_BAL</td>\n",
              "      <td>int64</td>\n",
              "      <td>30000</td>\n",
              "      <td>81</td>\n",
              "      <td>0</td>\n",
              "      <td>0</td>\n",
              "    </tr>\n",
              "    <tr>\n",
              "      <th>2</th>\n",
              "      <td>SEX</td>\n",
              "      <td>int64</td>\n",
              "      <td>30000</td>\n",
              "      <td>2</td>\n",
              "      <td>0</td>\n",
              "      <td>0</td>\n",
              "    </tr>\n",
              "    <tr>\n",
              "      <th>3</th>\n",
              "      <td>EDUCATION</td>\n",
              "      <td>int64</td>\n",
              "      <td>30000</td>\n",
              "      <td>7</td>\n",
              "      <td>0</td>\n",
              "      <td>0</td>\n",
              "    </tr>\n",
              "    <tr>\n",
              "      <th>4</th>\n",
              "      <td>MARRIAGE</td>\n",
              "      <td>int64</td>\n",
              "      <td>30000</td>\n",
              "      <td>4</td>\n",
              "      <td>0</td>\n",
              "      <td>0</td>\n",
              "    </tr>\n",
              "    <tr>\n",
              "      <th>5</th>\n",
              "      <td>AGE</td>\n",
              "      <td>int64</td>\n",
              "      <td>30000</td>\n",
              "      <td>56</td>\n",
              "      <td>0</td>\n",
              "      <td>0</td>\n",
              "    </tr>\n",
              "    <tr>\n",
              "      <th>6</th>\n",
              "      <td>PAY_0</td>\n",
              "      <td>int64</td>\n",
              "      <td>30000</td>\n",
              "      <td>11</td>\n",
              "      <td>0</td>\n",
              "      <td>0</td>\n",
              "    </tr>\n",
              "    <tr>\n",
              "      <th>7</th>\n",
              "      <td>PAY_2</td>\n",
              "      <td>int64</td>\n",
              "      <td>30000</td>\n",
              "      <td>11</td>\n",
              "      <td>0</td>\n",
              "      <td>0</td>\n",
              "    </tr>\n",
              "    <tr>\n",
              "      <th>8</th>\n",
              "      <td>PAY_3</td>\n",
              "      <td>int64</td>\n",
              "      <td>30000</td>\n",
              "      <td>11</td>\n",
              "      <td>0</td>\n",
              "      <td>0</td>\n",
              "    </tr>\n",
              "    <tr>\n",
              "      <th>9</th>\n",
              "      <td>PAY_4</td>\n",
              "      <td>int64</td>\n",
              "      <td>30000</td>\n",
              "      <td>11</td>\n",
              "      <td>0</td>\n",
              "      <td>0</td>\n",
              "    </tr>\n",
              "    <tr>\n",
              "      <th>10</th>\n",
              "      <td>PAY_5</td>\n",
              "      <td>int64</td>\n",
              "      <td>30000</td>\n",
              "      <td>10</td>\n",
              "      <td>0</td>\n",
              "      <td>0</td>\n",
              "    </tr>\n",
              "    <tr>\n",
              "      <th>11</th>\n",
              "      <td>PAY_6</td>\n",
              "      <td>int64</td>\n",
              "      <td>30000</td>\n",
              "      <td>10</td>\n",
              "      <td>0</td>\n",
              "      <td>0</td>\n",
              "    </tr>\n",
              "    <tr>\n",
              "      <th>12</th>\n",
              "      <td>BILL_AMT1</td>\n",
              "      <td>int64</td>\n",
              "      <td>30000</td>\n",
              "      <td>22723</td>\n",
              "      <td>0</td>\n",
              "      <td>0</td>\n",
              "    </tr>\n",
              "    <tr>\n",
              "      <th>13</th>\n",
              "      <td>BILL_AMT2</td>\n",
              "      <td>int64</td>\n",
              "      <td>30000</td>\n",
              "      <td>22346</td>\n",
              "      <td>0</td>\n",
              "      <td>0</td>\n",
              "    </tr>\n",
              "    <tr>\n",
              "      <th>14</th>\n",
              "      <td>BILL_AMT3</td>\n",
              "      <td>int64</td>\n",
              "      <td>30000</td>\n",
              "      <td>22026</td>\n",
              "      <td>0</td>\n",
              "      <td>0</td>\n",
              "    </tr>\n",
              "    <tr>\n",
              "      <th>15</th>\n",
              "      <td>BILL_AMT4</td>\n",
              "      <td>int64</td>\n",
              "      <td>30000</td>\n",
              "      <td>21548</td>\n",
              "      <td>0</td>\n",
              "      <td>0</td>\n",
              "    </tr>\n",
              "    <tr>\n",
              "      <th>16</th>\n",
              "      <td>BILL_AMT5</td>\n",
              "      <td>int64</td>\n",
              "      <td>30000</td>\n",
              "      <td>21010</td>\n",
              "      <td>0</td>\n",
              "      <td>0</td>\n",
              "    </tr>\n",
              "    <tr>\n",
              "      <th>17</th>\n",
              "      <td>BILL_AMT6</td>\n",
              "      <td>int64</td>\n",
              "      <td>30000</td>\n",
              "      <td>20604</td>\n",
              "      <td>0</td>\n",
              "      <td>0</td>\n",
              "    </tr>\n",
              "    <tr>\n",
              "      <th>18</th>\n",
              "      <td>PAY_AMT1</td>\n",
              "      <td>int64</td>\n",
              "      <td>30000</td>\n",
              "      <td>7943</td>\n",
              "      <td>0</td>\n",
              "      <td>0</td>\n",
              "    </tr>\n",
              "    <tr>\n",
              "      <th>19</th>\n",
              "      <td>PAY_AMT2</td>\n",
              "      <td>int64</td>\n",
              "      <td>30000</td>\n",
              "      <td>7899</td>\n",
              "      <td>0</td>\n",
              "      <td>0</td>\n",
              "    </tr>\n",
              "    <tr>\n",
              "      <th>20</th>\n",
              "      <td>PAY_AMT3</td>\n",
              "      <td>int64</td>\n",
              "      <td>30000</td>\n",
              "      <td>7518</td>\n",
              "      <td>0</td>\n",
              "      <td>0</td>\n",
              "    </tr>\n",
              "    <tr>\n",
              "      <th>21</th>\n",
              "      <td>PAY_AMT4</td>\n",
              "      <td>int64</td>\n",
              "      <td>30000</td>\n",
              "      <td>6937</td>\n",
              "      <td>0</td>\n",
              "      <td>0</td>\n",
              "    </tr>\n",
              "    <tr>\n",
              "      <th>22</th>\n",
              "      <td>PAY_AMT5</td>\n",
              "      <td>int64</td>\n",
              "      <td>30000</td>\n",
              "      <td>6897</td>\n",
              "      <td>0</td>\n",
              "      <td>0</td>\n",
              "    </tr>\n",
              "    <tr>\n",
              "      <th>23</th>\n",
              "      <td>PAY_AMT6</td>\n",
              "      <td>int64</td>\n",
              "      <td>30000</td>\n",
              "      <td>6939</td>\n",
              "      <td>0</td>\n",
              "      <td>0</td>\n",
              "    </tr>\n",
              "    <tr>\n",
              "      <th>24</th>\n",
              "      <td>default payment next month</td>\n",
              "      <td>int64</td>\n",
              "      <td>30000</td>\n",
              "      <td>2</td>\n",
              "      <td>0</td>\n",
              "      <td>0</td>\n",
              "    </tr>\n",
              "  </tbody>\n",
              "</table>\n",
              "</div>\n",
              "      <button class=\"colab-df-convert\" onclick=\"convertToInteractive('df-3839b684-ba21-42b8-8230-5ef3d27a6794')\"\n",
              "              title=\"Convert this dataframe to an interactive table.\"\n",
              "              style=\"display:none;\">\n",
              "        \n",
              "  <svg xmlns=\"http://www.w3.org/2000/svg\" height=\"24px\"viewBox=\"0 0 24 24\"\n",
              "       width=\"24px\">\n",
              "    <path d=\"M0 0h24v24H0V0z\" fill=\"none\"/>\n",
              "    <path d=\"M18.56 5.44l.94 2.06.94-2.06 2.06-.94-2.06-.94-.94-2.06-.94 2.06-2.06.94zm-11 1L8.5 8.5l.94-2.06 2.06-.94-2.06-.94L8.5 2.5l-.94 2.06-2.06.94zm10 10l.94 2.06.94-2.06 2.06-.94-2.06-.94-.94-2.06-.94 2.06-2.06.94z\"/><path d=\"M17.41 7.96l-1.37-1.37c-.4-.4-.92-.59-1.43-.59-.52 0-1.04.2-1.43.59L10.3 9.45l-7.72 7.72c-.78.78-.78 2.05 0 2.83L4 21.41c.39.39.9.59 1.41.59.51 0 1.02-.2 1.41-.59l7.78-7.78 2.81-2.81c.8-.78.8-2.07 0-2.86zM5.41 20L4 18.59l7.72-7.72 1.47 1.35L5.41 20z\"/>\n",
              "  </svg>\n",
              "      </button>\n",
              "      \n",
              "  <style>\n",
              "    .colab-df-container {\n",
              "      display:flex;\n",
              "      flex-wrap:wrap;\n",
              "      gap: 12px;\n",
              "    }\n",
              "\n",
              "    .colab-df-convert {\n",
              "      background-color: #E8F0FE;\n",
              "      border: none;\n",
              "      border-radius: 50%;\n",
              "      cursor: pointer;\n",
              "      display: none;\n",
              "      fill: #1967D2;\n",
              "      height: 32px;\n",
              "      padding: 0 0 0 0;\n",
              "      width: 32px;\n",
              "    }\n",
              "\n",
              "    .colab-df-convert:hover {\n",
              "      background-color: #E2EBFA;\n",
              "      box-shadow: 0px 1px 2px rgba(60, 64, 67, 0.3), 0px 1px 3px 1px rgba(60, 64, 67, 0.15);\n",
              "      fill: #174EA6;\n",
              "    }\n",
              "\n",
              "    [theme=dark] .colab-df-convert {\n",
              "      background-color: #3B4455;\n",
              "      fill: #D2E3FC;\n",
              "    }\n",
              "\n",
              "    [theme=dark] .colab-df-convert:hover {\n",
              "      background-color: #434B5C;\n",
              "      box-shadow: 0px 1px 3px 1px rgba(0, 0, 0, 0.15);\n",
              "      filter: drop-shadow(0px 1px 2px rgba(0, 0, 0, 0.3));\n",
              "      fill: #FFFFFF;\n",
              "    }\n",
              "  </style>\n",
              "\n",
              "      <script>\n",
              "        const buttonEl =\n",
              "          document.querySelector('#df-3839b684-ba21-42b8-8230-5ef3d27a6794 button.colab-df-convert');\n",
              "        buttonEl.style.display =\n",
              "          google.colab.kernel.accessAllowed ? 'block' : 'none';\n",
              "\n",
              "        async function convertToInteractive(key) {\n",
              "          const element = document.querySelector('#df-3839b684-ba21-42b8-8230-5ef3d27a6794');\n",
              "          const dataTable =\n",
              "            await google.colab.kernel.invokeFunction('convertToInteractive',\n",
              "                                                     [key], {});\n",
              "          if (!dataTable) return;\n",
              "\n",
              "          const docLinkHtml = 'Like what you see? Visit the ' +\n",
              "            '<a target=\"_blank\" href=https://colab.research.google.com/notebooks/data_table.ipynb>data table notebook</a>'\n",
              "            + ' to learn more about interactive tables.';\n",
              "          element.innerHTML = '';\n",
              "          dataTable['output_type'] = 'display_data';\n",
              "          await google.colab.output.renderOutput(dataTable, element);\n",
              "          const docLink = document.createElement('div');\n",
              "          docLink.innerHTML = docLinkHtml;\n",
              "          element.appendChild(docLink);\n",
              "        }\n",
              "      </script>\n",
              "    </div>\n",
              "  </div>\n",
              "  "
            ]
          },
          "metadata": {},
          "execution_count": 68
        }
      ]
    },
    {
      "cell_type": "markdown",
      "source": [
        "**Findings:**\n",
        "\n",
        "* From the given dataset we were able to understand that there are total of 25 columns and 30000 rows and all of them have int type variables.\n",
        "*  we also have 24 independent variables and 'default payment next month' as the dependent variable.\n",
        "*  Dataset is quite clean with no null values as well as no duplicate or missing values."
      ],
      "metadata": {
        "id": "5ATTXbnXR8cV"
      }
    },
    {
      "cell_type": "markdown",
      "source": [
        "## Data Wrangling"
      ],
      "metadata": {
        "id": "BAmP4Ma4HAdl"
      }
    },
    {
      "cell_type": "code",
      "source": [
        "# Renaming the column 'default payment next month' to 'default' and Rename PAY_0 to PAY_1 for convenience\n",
        "credit_df.rename(columns={'default payment next month': 'default', 'PAY_0':'PAY_1'}, inplace=True)"
      ],
      "metadata": {
        "id": "aU4uHQ7t7C_u"
      },
      "execution_count": 69,
      "outputs": []
    },
    {
      "cell_type": "code",
      "source": [
        "# Making a copy of the dataframe\n",
        "df = credit_df.copy()"
      ],
      "metadata": {
        "id": "jSLgPTDJTmr_"
      },
      "execution_count": 70,
      "outputs": []
    },
    {
      "cell_type": "code",
      "source": [
        "# Replace values in SEX, MARRIAGE and EDUCATION variables to perform EDA\n",
        "df['SEX'] = df['SEX'].replace({1:'Male', 2:'Female'})\n",
        "df['EDUCATION'] = df['EDUCATION'].replace({1:'Graduation', 2:'University', 3:'High_School', 0:'Others', 4:'Others', 5:'Others', 6:'Others'})\n",
        "df['MARRIAGE'] = df['MARRIAGE'].replace({ 0:'Others', 1:'Married', 2:'Single', 3:'Divorce'})\n",
        "df.sample(3)"
      ],
      "metadata": {
        "id": "ELv3NGBDPLRf",
        "colab": {
          "base_uri": "https://localhost:8080/",
          "height": 236
        },
        "outputId": "a919a696-474d-4f0a-9f45-90bfa3faeb3b"
      },
      "execution_count": 71,
      "outputs": [
        {
          "output_type": "execute_result",
          "data": {
            "text/plain": [
              "          ID  LIMIT_BAL     SEX   EDUCATION MARRIAGE  AGE  PAY_1  PAY_2  \\\n",
              "23924  23925     420000    Male  University  Married   24      0      0   \n",
              "3581    3582      70000    Male  University  Married   48      0      0   \n",
              "28124  28125     230000  Female  University  Married   39     -2     -2   \n",
              "\n",
              "       PAY_3  PAY_4  ...  BILL_AMT4  BILL_AMT5  BILL_AMT6  PAY_AMT1  PAY_AMT2  \\\n",
              "23924      0      0  ...     214062     164003     162836     16117     20516   \n",
              "3581       0     -1  ...       1230        390        890      1188      2000   \n",
              "28124     -2     -2  ...          0       1931          0         0      1052   \n",
              "\n",
              "       PAY_AMT3  PAY_AMT4  PAY_AMT5  PAY_AMT6  default  \n",
              "23924      7092      6019      4636      5570        0  \n",
              "3581       1230       390       890       215        0  \n",
              "28124         0      1931         0      3915        0  \n",
              "\n",
              "[3 rows x 25 columns]"
            ],
            "text/html": [
              "\n",
              "  <div id=\"df-182552f4-3001-4142-91f3-784a6c3508f5\">\n",
              "    <div class=\"colab-df-container\">\n",
              "      <div>\n",
              "<style scoped>\n",
              "    .dataframe tbody tr th:only-of-type {\n",
              "        vertical-align: middle;\n",
              "    }\n",
              "\n",
              "    .dataframe tbody tr th {\n",
              "        vertical-align: top;\n",
              "    }\n",
              "\n",
              "    .dataframe thead th {\n",
              "        text-align: right;\n",
              "    }\n",
              "</style>\n",
              "<table border=\"1\" class=\"dataframe\">\n",
              "  <thead>\n",
              "    <tr style=\"text-align: right;\">\n",
              "      <th></th>\n",
              "      <th>ID</th>\n",
              "      <th>LIMIT_BAL</th>\n",
              "      <th>SEX</th>\n",
              "      <th>EDUCATION</th>\n",
              "      <th>MARRIAGE</th>\n",
              "      <th>AGE</th>\n",
              "      <th>PAY_1</th>\n",
              "      <th>PAY_2</th>\n",
              "      <th>PAY_3</th>\n",
              "      <th>PAY_4</th>\n",
              "      <th>...</th>\n",
              "      <th>BILL_AMT4</th>\n",
              "      <th>BILL_AMT5</th>\n",
              "      <th>BILL_AMT6</th>\n",
              "      <th>PAY_AMT1</th>\n",
              "      <th>PAY_AMT2</th>\n",
              "      <th>PAY_AMT3</th>\n",
              "      <th>PAY_AMT4</th>\n",
              "      <th>PAY_AMT5</th>\n",
              "      <th>PAY_AMT6</th>\n",
              "      <th>default</th>\n",
              "    </tr>\n",
              "  </thead>\n",
              "  <tbody>\n",
              "    <tr>\n",
              "      <th>23924</th>\n",
              "      <td>23925</td>\n",
              "      <td>420000</td>\n",
              "      <td>Male</td>\n",
              "      <td>University</td>\n",
              "      <td>Married</td>\n",
              "      <td>24</td>\n",
              "      <td>0</td>\n",
              "      <td>0</td>\n",
              "      <td>0</td>\n",
              "      <td>0</td>\n",
              "      <td>...</td>\n",
              "      <td>214062</td>\n",
              "      <td>164003</td>\n",
              "      <td>162836</td>\n",
              "      <td>16117</td>\n",
              "      <td>20516</td>\n",
              "      <td>7092</td>\n",
              "      <td>6019</td>\n",
              "      <td>4636</td>\n",
              "      <td>5570</td>\n",
              "      <td>0</td>\n",
              "    </tr>\n",
              "    <tr>\n",
              "      <th>3581</th>\n",
              "      <td>3582</td>\n",
              "      <td>70000</td>\n",
              "      <td>Male</td>\n",
              "      <td>University</td>\n",
              "      <td>Married</td>\n",
              "      <td>48</td>\n",
              "      <td>0</td>\n",
              "      <td>0</td>\n",
              "      <td>0</td>\n",
              "      <td>-1</td>\n",
              "      <td>...</td>\n",
              "      <td>1230</td>\n",
              "      <td>390</td>\n",
              "      <td>890</td>\n",
              "      <td>1188</td>\n",
              "      <td>2000</td>\n",
              "      <td>1230</td>\n",
              "      <td>390</td>\n",
              "      <td>890</td>\n",
              "      <td>215</td>\n",
              "      <td>0</td>\n",
              "    </tr>\n",
              "    <tr>\n",
              "      <th>28124</th>\n",
              "      <td>28125</td>\n",
              "      <td>230000</td>\n",
              "      <td>Female</td>\n",
              "      <td>University</td>\n",
              "      <td>Married</td>\n",
              "      <td>39</td>\n",
              "      <td>-2</td>\n",
              "      <td>-2</td>\n",
              "      <td>-2</td>\n",
              "      <td>-2</td>\n",
              "      <td>...</td>\n",
              "      <td>0</td>\n",
              "      <td>1931</td>\n",
              "      <td>0</td>\n",
              "      <td>0</td>\n",
              "      <td>1052</td>\n",
              "      <td>0</td>\n",
              "      <td>1931</td>\n",
              "      <td>0</td>\n",
              "      <td>3915</td>\n",
              "      <td>0</td>\n",
              "    </tr>\n",
              "  </tbody>\n",
              "</table>\n",
              "<p>3 rows × 25 columns</p>\n",
              "</div>\n",
              "      <button class=\"colab-df-convert\" onclick=\"convertToInteractive('df-182552f4-3001-4142-91f3-784a6c3508f5')\"\n",
              "              title=\"Convert this dataframe to an interactive table.\"\n",
              "              style=\"display:none;\">\n",
              "        \n",
              "  <svg xmlns=\"http://www.w3.org/2000/svg\" height=\"24px\"viewBox=\"0 0 24 24\"\n",
              "       width=\"24px\">\n",
              "    <path d=\"M0 0h24v24H0V0z\" fill=\"none\"/>\n",
              "    <path d=\"M18.56 5.44l.94 2.06.94-2.06 2.06-.94-2.06-.94-.94-2.06-.94 2.06-2.06.94zm-11 1L8.5 8.5l.94-2.06 2.06-.94-2.06-.94L8.5 2.5l-.94 2.06-2.06.94zm10 10l.94 2.06.94-2.06 2.06-.94-2.06-.94-.94-2.06-.94 2.06-2.06.94z\"/><path d=\"M17.41 7.96l-1.37-1.37c-.4-.4-.92-.59-1.43-.59-.52 0-1.04.2-1.43.59L10.3 9.45l-7.72 7.72c-.78.78-.78 2.05 0 2.83L4 21.41c.39.39.9.59 1.41.59.51 0 1.02-.2 1.41-.59l7.78-7.78 2.81-2.81c.8-.78.8-2.07 0-2.86zM5.41 20L4 18.59l7.72-7.72 1.47 1.35L5.41 20z\"/>\n",
              "  </svg>\n",
              "      </button>\n",
              "      \n",
              "  <style>\n",
              "    .colab-df-container {\n",
              "      display:flex;\n",
              "      flex-wrap:wrap;\n",
              "      gap: 12px;\n",
              "    }\n",
              "\n",
              "    .colab-df-convert {\n",
              "      background-color: #E8F0FE;\n",
              "      border: none;\n",
              "      border-radius: 50%;\n",
              "      cursor: pointer;\n",
              "      display: none;\n",
              "      fill: #1967D2;\n",
              "      height: 32px;\n",
              "      padding: 0 0 0 0;\n",
              "      width: 32px;\n",
              "    }\n",
              "\n",
              "    .colab-df-convert:hover {\n",
              "      background-color: #E2EBFA;\n",
              "      box-shadow: 0px 1px 2px rgba(60, 64, 67, 0.3), 0px 1px 3px 1px rgba(60, 64, 67, 0.15);\n",
              "      fill: #174EA6;\n",
              "    }\n",
              "\n",
              "    [theme=dark] .colab-df-convert {\n",
              "      background-color: #3B4455;\n",
              "      fill: #D2E3FC;\n",
              "    }\n",
              "\n",
              "    [theme=dark] .colab-df-convert:hover {\n",
              "      background-color: #434B5C;\n",
              "      box-shadow: 0px 1px 3px 1px rgba(0, 0, 0, 0.15);\n",
              "      filter: drop-shadow(0px 1px 2px rgba(0, 0, 0, 0.3));\n",
              "      fill: #FFFFFF;\n",
              "    }\n",
              "  </style>\n",
              "\n",
              "      <script>\n",
              "        const buttonEl =\n",
              "          document.querySelector('#df-182552f4-3001-4142-91f3-784a6c3508f5 button.colab-df-convert');\n",
              "        buttonEl.style.display =\n",
              "          google.colab.kernel.accessAllowed ? 'block' : 'none';\n",
              "\n",
              "        async function convertToInteractive(key) {\n",
              "          const element = document.querySelector('#df-182552f4-3001-4142-91f3-784a6c3508f5');\n",
              "          const dataTable =\n",
              "            await google.colab.kernel.invokeFunction('convertToInteractive',\n",
              "                                                     [key], {});\n",
              "          if (!dataTable) return;\n",
              "\n",
              "          const docLinkHtml = 'Like what you see? Visit the ' +\n",
              "            '<a target=\"_blank\" href=https://colab.research.google.com/notebooks/data_table.ipynb>data table notebook</a>'\n",
              "            + ' to learn more about interactive tables.';\n",
              "          element.innerHTML = '';\n",
              "          dataTable['output_type'] = 'display_data';\n",
              "          await google.colab.output.renderOutput(dataTable, element);\n",
              "          const docLink = document.createElement('div');\n",
              "          docLink.innerHTML = docLinkHtml;\n",
              "          element.appendChild(docLink);\n",
              "        }\n",
              "      </script>\n",
              "    </div>\n",
              "  </div>\n",
              "  "
            ]
          },
          "metadata": {},
          "execution_count": 71
        }
      ]
    },
    {
      "cell_type": "code",
      "source": [
        "# Creating a new dataframe with categorical variables\n",
        "categorical_df= df[['SEX', 'EDUCATION', 'MARRIAGE', 'PAY_1', 'PAY_2', 'PAY_3', 'PAY_4', \n",
        "               'PAY_5', 'PAY_6', 'default']]"
      ],
      "metadata": {
        "id": "wMD7vxMIIoTb"
      },
      "execution_count": 72,
      "outputs": []
    },
    {
      "cell_type": "markdown",
      "source": [
        "#Visualizations"
      ],
      "metadata": {
        "id": "bdKmtjBOPNV8"
      }
    },
    {
      "cell_type": "markdown",
      "source": [
        "### Mapping the the \"default\" ratio"
      ],
      "metadata": {
        "id": "BmNirtGIJK87"
      }
    },
    {
      "cell_type": "code",
      "source": [
        "plt.figure(figsize=(7,4))\n",
        "sns.set_context('notebook', font_scale=1.2)\n",
        "sns.countplot('default',data=df, palette=\"Blues\")\n",
        "plt.annotate('Non-default', xy=(-0.3, 15000),size=12)\n",
        "plt.annotate('Default', xy=(0.7, 15000), size=12)\n",
        "plt.title('COUNT OF CREDIT CARDS', size=14)"
      ],
      "metadata": {
        "id": "abRFyiJ5FwcV",
        "colab": {
          "base_uri": "https://localhost:8080/",
          "height": 324
        },
        "outputId": "b902e565-7dbd-4739-81d4-2f1a171a8bfb"
      },
      "execution_count": 73,
      "outputs": [
        {
          "output_type": "execute_result",
          "data": {
            "text/plain": [
              "Text(0.5, 1.0, 'COUNT OF CREDIT CARDS')"
            ]
          },
          "metadata": {},
          "execution_count": 73
        },
        {
          "output_type": "display_data",
          "data": {
            "text/plain": [
              "<Figure size 504x288 with 1 Axes>"
            ],
            "image/png": "[encoded data removed]"
          },
          "metadata": {
            "needs_background": "light"
          }
        }
      ]
    },
    {
      "cell_type": "markdown",
      "source": [
        "**Findings:** From the above plot we can see that out of 30,000 credit card holders there are way less defaulters as compared to non-defaulters."
      ],
      "metadata": {
        "id": "Tw1WVh7VI4ys"
      }
    },
    {
      "cell_type": "markdown",
      "source": [
        "### Visualizing the data distribution base on SEX"
      ],
      "metadata": {
        "id": "vqUPSDNOcD9V"
      }
    },
    {
      "cell_type": "code",
      "source": [
        "plt.figure(figsize=(10,5))\n",
        "sns.countplot(x = 'SEX', data = df)"
      ],
      "metadata": {
        "id": "WYTK1flPYIDw",
        "colab": {
          "base_uri": "https://localhost:8080/",
          "height": 361
        },
        "outputId": "475d8cc5-3027-45fa-c5e2-a2a3dc5c1703"
      },
      "execution_count": 74,
      "outputs": [
        {
          "output_type": "execute_result",
          "data": {
            "text/plain": [
              "<matplotlib.axes._subplots.AxesSubplot at 0x7f2e58655c40>"
            ]
          },
          "metadata": {},
          "execution_count": 74
        },
        {
          "output_type": "display_data",
          "data": {
            "text/plain": [
              "<Figure size 720x360 with 1 Axes>"
            ],
            "image/png": "[encoded data removed]"
          },
          "metadata": {
            "needs_background": "light"
          }
        }
      ]
    },
    {
      "cell_type": "markdown",
      "source": [
        "**Finding:** Based on the plot we can say that there are more female customer than male customers."
      ],
      "metadata": {
        "id": "i-Ubr4xdYvzG"
      }
    },
    {
      "cell_type": "markdown",
      "source": [
        "### Distribution of Gender v/s Education and then v/s default"
      ],
      "metadata": {
        "id": "UY_Jxm8fb80U"
      }
    },
    {
      "cell_type": "code",
      "source": [
        "i=1\n",
        "plt.figure(figsize=(20,5))\n",
        "for cat in df['SEX'].unique():\n",
        "  df_temp = df[df['SEX']==cat]\n",
        "  plt.subplot(1,2,i)\n",
        "  plt.gca().title.set_text(cat)\n",
        "  sns.countplot(data=df_temp, x='EDUCATION')\n",
        "  i=i+1\n",
        "plt.show()\n"
      ],
      "metadata": {
        "id": "SWdrAsl4ZEb3",
        "colab": {
          "base_uri": "https://localhost:8080/",
          "height": 360
        },
        "outputId": "eb7f38f0-4a3b-4b0e-c366-11d8fb463e14"
      },
      "execution_count": 75,
      "outputs": [
        {
          "output_type": "display_data",
          "data": {
            "text/plain": [
              "<Figure size 1440x360 with 2 Axes>"
            ],
            "image/png": "[encoded data removed]"
          },
          "metadata": {
            "needs_background": "light"
          }
        }
      ]
    },
    {
      "cell_type": "code",
      "source": [
        "# Distribution of Gender v/s Education v/s default\n",
        "i=1\n",
        "plt.figure(figsize=(20,5))\n",
        "for cat in df['SEX'].unique():\n",
        "  df_temp = df[df['SEX']==cat]\n",
        "  plt.subplot(1,2,i)\n",
        "  plt.gca().title.set_text(cat)\n",
        "  sns.countplot(data=df_temp, x='EDUCATION', hue='default')\n",
        "  i=i+1\n",
        "plt.show()"
      ],
      "metadata": {
        "id": "0FumgHYYZU3S",
        "colab": {
          "base_uri": "https://localhost:8080/",
          "height": 360
        },
        "outputId": "ce4c232a-b7c1-4605-e75e-883b4496c3f1"
      },
      "execution_count": 76,
      "outputs": [
        {
          "output_type": "display_data",
          "data": {
            "text/plain": [
              "<Figure size 1440x360 with 2 Axes>"
            ],
            "image/png": "[encoded data removed]"
          },
          "metadata": {
            "needs_background": "light"
          }
        }
      ]
    },
    {
      "cell_type": "markdown",
      "source": [
        "**Findings:**\n",
        "\n",
        "* Among both male and female customers, most number of people are University educated followed by Gratuates.\n",
        "* When we subcategorize each qualification by 'default' status we see a similar distribution as well."
      ],
      "metadata": {
        "id": "Q59rwesJZaiv"
      }
    },
    {
      "cell_type": "markdown",
      "source": [
        "### Distribution of Age of clients in dataset\n"
      ],
      "metadata": {
        "id": "NfHOPkGzcWH8"
      }
    },
    {
      "cell_type": "code",
      "source": [
        "plt.figure(figsize = (15,5))\n",
        "plt.title('Distribution of customer Age')\n",
        "\n",
        "plt.subplot(1,3,1)\n",
        "sns.distplot(df['AGE'])\n",
        "\n",
        "plt.subplot(1,3,2)\n",
        "sns.boxplot(df['AGE'])\n",
        "\n",
        "plt.show()"
      ],
      "metadata": {
        "id": "da16tHxIVCoY",
        "colab": {
          "base_uri": "https://localhost:8080/",
          "height": 343
        },
        "outputId": "6ebcd9b0-7fce-481d-9ed2-25a996a2a870"
      },
      "execution_count": 77,
      "outputs": [
        {
          "output_type": "display_data",
          "data": {
            "text/plain": [
              "<Figure size 1080x360 with 2 Axes>"
            ],
            "image/png": "[encoded data removed]"
          },
          "metadata": {
            "needs_background": "light"
          }
        }
      ]
    },
    {
      "cell_type": "markdown",
      "source": [
        "**Findings:**\n",
        "\n",
        "* The data spread for AGE is 21 to 79\n",
        "* Most of the customers fall under the age bracket 25 to 35\n",
        "* A few outliers after the age of 60\n",
        "* The histogram shows few peaks around the ages 30, 35, 40 and 50 which indicates more customers for these ages"
      ],
      "metadata": {
        "id": "fk_siyM-VLg_"
      }
    },
    {
      "cell_type": "markdown",
      "source": [
        "### Distribution of Age by marrital status"
      ],
      "metadata": {
        "id": "Qz4BpkY_ZMAZ"
      }
    },
    {
      "cell_type": "code",
      "source": [
        "plt.figure(figsize=(15, 15))\n",
        "\n",
        "plt.subplot(3,1,1)\n",
        "sns.distplot(df[df['MARRIAGE']=='Single']['AGE'], label='Single', color='red')\n",
        "sns.distplot(df[df['MARRIAGE']=='Married']['AGE'], label='Married', color='blue')\n",
        "sns.distplot(df[df['MARRIAGE']=='Others']['AGE'], label='Others', color='green')\n",
        "sns.distplot(df[df['MARRIAGE']=='Divorce']['AGE'], label='Divorced', color='purple')\n",
        "plt.legend()"
      ],
      "metadata": {
        "id": "Sr6zXK9_XDzz",
        "colab": {
          "base_uri": "https://localhost:8080/",
          "height": 329
        },
        "outputId": "0c53fea0-3a78-4d92-c017-fc161db0b442"
      },
      "execution_count": 78,
      "outputs": [
        {
          "output_type": "execute_result",
          "data": {
            "text/plain": [
              "<matplotlib.legend.Legend at 0x7f2e55e48be0>"
            ]
          },
          "metadata": {},
          "execution_count": 78
        },
        {
          "output_type": "display_data",
          "data": {
            "text/plain": [
              "<Figure size 1080x1080 with 1 Axes>"
            ],
            "image/png": "[encoded data removed]"
          },
          "metadata": {
            "needs_background": "light"
          }
        }
      ]
    },
    {
      "cell_type": "markdown",
      "source": [
        "**Findings:**\n",
        "\n",
        "* Customers between 25 to 35 are mostly Single, \n",
        "* Customers between 35-45 are mostly Married\n",
        "* Customers above 45 are mostly Divorced."
      ],
      "metadata": {
        "id": "bWNY2JZ3XJhE"
      }
    },
    {
      "cell_type": "markdown",
      "source": [
        "###Defaulters based on Limit balance"
      ],
      "metadata": {
        "id": "_W1X54YRfWFb"
      }
    },
    {
      "cell_type": "code",
      "source": [
        "new_1 = list(df[df['default'] == 1]['LIMIT_BAL'])\n",
        "new_2 = list(df[df['default'] == 0]['LIMIT_BAL'])\n",
        "\n",
        "plt.figure(figsize=(12,4))\n",
        "sns.set_context('notebook', font_scale=1.2)\n",
        "#sns.set_color_codes(\"pastel\")\n",
        "plt.hist([new_1, new_2], bins = 40, color=['red', 'green'])\n",
        "plt.xlim([0,600000])\n",
        "plt.legend(['Yes', 'No'], title = 'Default', loc='upper right', facecolor='yellow')\n",
        "plt.xlabel('Limit Balance')\n",
        "plt.ylabel('Frequency')\n",
        "plt.title('LIMIT BALANCE HISTOGRAM BY TYPE OF CREDIT CARD', SIZE=15)\n",
        "plt.box(False)\n",
        "plt.savefig('ImageName', format='png', dpi=200, transparent=True);"
      ],
      "metadata": {
        "id": "46zSyXxiM-Kc",
        "colab": {
          "base_uri": "https://localhost:8080/",
          "height": 307
        },
        "outputId": "98c25e8b-070a-4c71-86bb-77d17e726275"
      },
      "execution_count": 79,
      "outputs": [
        {
          "output_type": "display_data",
          "data": {
            "text/plain": [
              "<Figure size 864x288 with 1 Axes>"
            ],
            "image/png": "[encoded data removed]"
          },
          "metadata": {
            "needs_background": "light"
          }
        }
      ]
    },
    {
      "cell_type": "markdown",
      "source": [
        "**Findings:**\n",
        "* Most of the Clients have limit balance below 4L.\n",
        "* we have most defaulters as well as non-defaulters from the clients with lower limit balance.\n",
        "* from the clients with higher limit balance(above 4L), 5L has most non-defaulters. "
      ],
      "metadata": {
        "id": "blFu_q-cP4Zk"
      }
    },
    {
      "cell_type": "markdown",
      "source": [
        "###Defaults based on categorical columns"
      ],
      "metadata": {
        "id": "OgH3f8y5alRK"
      }
    },
    {
      "cell_type": "code",
      "source": [
        "f, axes = plt.subplots(3, 3, figsize=(20, 15), facecolor='white')\n",
        "f.suptitle('FREQUENCY OF CATEGORICAL VARIABLES')\n",
        "ax1 = sns.countplot(x=\"SEX\", hue=\"default\", data=categorical_df, palette=\"Blues\", ax=axes[0,0])\n",
        "ax2 = sns.countplot(x=\"EDUCATION\", hue=\"default\", data=categorical_df, palette=\"Blues\",ax=axes[0,1])\n",
        "ax3 = sns.countplot(x=\"MARRIAGE\", hue=\"default\", data=categorical_df, palette=\"Blues\",ax=axes[0,2])\n",
        "ax4 = sns.countplot(x=\"PAY_1\", hue=\"default\", data=categorical_df, palette=\"Blues\", ax=axes[1,0])\n",
        "ax5 = sns.countplot(x=\"PAY_2\", hue=\"default\", data=categorical_df, palette=\"Blues\", ax=axes[1,1])\n",
        "ax6 = sns.countplot(x=\"PAY_3\", hue=\"default\", data=categorical_df, palette=\"Blues\", ax=axes[1,2])\n",
        "ax7 = sns.countplot(x=\"PAY_4\", hue=\"default\", data=categorical_df, palette=\"Blues\", ax=axes[2,0])\n",
        "ax8 = sns.countplot(x=\"PAY_5\", hue=\"default\", data=categorical_df, palette=\"Blues\", ax=axes[2,1])\n",
        "ax9 = sns.countplot(x=\"PAY_6\", hue=\"default\", data=categorical_df, palette=\"Blues\", ax=axes[2,2]);"
      ],
      "metadata": {
        "id": "TePz-g86JjLe",
        "colab": {
          "base_uri": "https://localhost:8080/",
          "height": 995
        },
        "outputId": "933f4ddf-38d1-424e-8518-18e46dfdceae"
      },
      "execution_count": 80,
      "outputs": [
        {
          "output_type": "display_data",
          "data": {
            "text/plain": [
              "<Figure size 1440x1080 with 9 Axes>"
            ],
            "image/png": "[encoded data removed]"
          },
          "metadata": {}
        }
      ]
    },
    {
      "cell_type": "markdown",
      "source": [
        "**Findings:**\n",
        "\n",
        "* Non-defaults have a higher proportion of Females\n",
        "* Non-defaults have a higher proportion of More Educated\n",
        "* Non-defaults have a higher proportion of Singles and Married"
      ],
      "metadata": {
        "id": "Wh52vBM9Tu55"
      }
    },
    {
      "cell_type": "markdown",
      "source": [
        "### Default based on all Attributes"
      ],
      "metadata": {
        "id": "mKaps1Hlaa-T"
      }
    },
    {
      "cell_type": "code",
      "source": [
        "# df.hist(bins=50, figsize=(20,15))\n",
        "# plt.show()\n",
        "\n",
        "output = 'default'\n",
        "cols = [ f for f in df.columns if df.dtypes[ f ] != \"object\"]\n",
        "cols.remove( \"ID\")\n",
        "cols.remove( output )\n",
        "\n",
        "f = pd.melt( df, id_vars=output, value_vars=cols)\n",
        "g = sns.FacetGrid( f, hue=output, col=\"variable\", col_wrap=5, sharex=False, sharey=False )\n",
        "g = g.map( sns.distplot, \"value\", kde=True).add_legend()"
      ],
      "metadata": {
        "id": "CcOo7dk0NvyZ",
        "colab": {
          "base_uri": "https://localhost:8080/",
          "height": 864
        },
        "outputId": "0b25e34e-c5df-4eb8-c7bd-b948fa17769f"
      },
      "execution_count": 81,
      "outputs": [
        {
          "output_type": "display_data",
          "data": {
            "text/plain": [
              "<Figure size 1141.31x864 with 20 Axes>"
            ],
            "image/png": "[encoded data removed]"
          },
          "metadata": {
            "needs_background": "light"
          }
        }
      ]
    },
    {
      "cell_type": "markdown",
      "source": [
        "**Findings:**\n",
        "* Defaults have a higher proportion of Lower LIMIT_BAL values\n",
        "* Non-defaults have a higher proportion of people eith the age of 30-40years A bigger percentage of participants in Non-Defaults are between the ages of 30 and 40.\n",
        "* Non-defaults have a MUCH higher proportion of zero or negative PAY_X variables (this means that being current or ahead of payments is associated with not defaulting in the following month"
      ],
      "metadata": {
        "id": "EB0DdNfVavqm"
      }
    },
    {
      "cell_type": "markdown",
      "source": [
        "#Feature Engineering"
      ],
      "metadata": {
        "id": "kc7_L6dMqOw1"
      }
    },
    {
      "cell_type": "markdown",
      "source": [
        "## Treating the Outliers"
      ],
      "metadata": {
        "id": "MFFeKyIZN3tX"
      }
    },
    {
      "cell_type": "code",
      "source": [
        "fig, axs = plt.subplots(nrows=5, ncols=5, figsize=(15,15))\n",
        "axs = axs.flatten()\n",
        "n_columns = credit_df.shape[1]\n",
        "for i, ax in enumerate(axs[:n_columns]):\n",
        "    sns.boxplot(credit_df.iloc[:, i], ax=ax)\n",
        "    ax.set_title(credit_df.columns[i])\n",
        "plt.tight_layout()\n",
        "plt.show()"
      ],
      "metadata": {
        "id": "P-LobgQ1YieH"
      },
      "execution_count": null,
      "outputs": []
    },
    {
      "cell_type": "markdown",
      "source": [
        "we have outliers in this dataset but these are the transactions that are actually fraud so it is important to keep it in our dataset to make our model accurate."
      ],
      "metadata": {
        "id": "XOlNp9gfN7Ou"
      }
    },
    {
      "cell_type": "markdown",
      "source": [
        "### Correlation in dataset\n"
      ],
      "metadata": {
        "id": "TwToju-5a0Xt"
      }
    },
    {
      "cell_type": "code",
      "source": [
        "# Check the correlation plot\n",
        "\n",
        "corr = df.corr()\n",
        "# corr.style.background_gradient(cmap='coolwarm')\n",
        "\n",
        "\n",
        "f,ax = plt.subplots(figsize=(8, 7))\n",
        "sns.heatmap(corr, cbar = True,  square = True, annot = False, fmt= '.1f', \n",
        "            xticklabels= True, yticklabels= True\n",
        "            ,cmap=\"coolwarm\", linewidths=.5, ax=ax)\n",
        "plt.title('CORRELATION MATRIX - HEATMAP', size=18);"
      ],
      "metadata": {
        "id": "_VVa87aFQxOZ"
      },
      "execution_count": null,
      "outputs": []
    },
    {
      "cell_type": "markdown",
      "source": [
        "**Findings:**\n",
        "\n",
        "* A correlation matrix of all variables is shown in the heatmap. The only feature with a notable positive correlation with the dependent variable ‘Default’ is re-payment status during the last month i.e, September*(for reference check the features description below)*. The highest negative correlation with default occurs with Limit_Balance, indicating that customers with lower limit balance are more likely to default. It can also be observed that some variables are highly correlated to each other, that is the case of the amount of bill statement and the repayment status in different months."
      ],
      "metadata": {
        "id": "jl6xT18MrUKv"
      }
    },
    {
      "cell_type": "markdown",
      "source": [
        "## **Data preparation and One hot encoding**"
      ],
      "metadata": {
        "id": "YgwRRvc76Adh"
      }
    },
    {
      "cell_type": "markdown",
      "source": [
        "**Features description:** \n",
        "\n",
        "* **LIMIT_BAL**: Amount of the given credit : it includes both the individual consumer credit and his/her family (supplementary) credit.\n",
        "* **SEX**: Gender (1 = male; 2 = female).\n",
        "* **EDUCATION**: Education (1 = graduate school; 2 = university; 3 = high school; 4 = others).\n",
        "* **MARRIAGE**: Marital status (1 = married; 2 = single; 3 = others).\n",
        "* **AGE**: Age (year).\n",
        "* **PAY_1 - PAY_6**: History of past payment. We tracked the past monthly payment records (from April to September, 2005) as\n",
        "follows: 0 = the repayment status in September, 2005; 1 = the repayment status in August, 2005;\n",
        ".;6 = the repayment\n",
        "status in April, 2005. The measurement scale for the repayment status is: -1 = pay duly; 1 = payment delay for one month;\n",
        "2 = payment delay for two months;\n",
        ";8 = payment delay for eight months; 9 = payment delay for nine months and above.\n",
        "* **BILL_AMT1-BILL_AMT6**: Amount of bill statement. X12 = amount of bill statement in September, 2005; X13 =\n",
        "amount of bill statement in August, 2005; . ..; X17 = amount of bill statement in April, 2005.\n",
        "* **PAY_AMT1-PAY_AMT6:** Amount of previous payment.\n",
        "* **default**: positive class: default | negative class: pay\n",
        "\n",
        "*(Few assumptions were made in this to have a clear image of what are we working with and for future refence as well.)*"
      ],
      "metadata": {
        "id": "XWZywBxs8M_B"
      }
    },
    {
      "cell_type": "code",
      "source": [
        "credit_df['grad_school']= (credit_df['EDUCATION'] ==1).astype('int')\n",
        "credit_df['university']= (credit_df['EDUCATION'] == 2).astype('int')\n",
        "credit_df['high_school']= (credit_df['EDUCATION'] == 3).astype('int')\n",
        "credit_df.drop('EDUCATION', axis=1, inplace=True)"
      ],
      "metadata": {
        "id": "Y37ofdiFqb1Q"
      },
      "execution_count": null,
      "outputs": []
    },
    {
      "cell_type": "code",
      "source": [
        "credit_df['married'] = (credit_df['MARRIAGE'] == 1). astype('int')\n",
        "credit_df.drop('MARRIAGE', axis=1, inplace=True)"
      ],
      "metadata": {
        "id": "hI1J-OltZv0M"
      },
      "execution_count": null,
      "outputs": []
    },
    {
      "cell_type": "code",
      "source": [
        "credit_df['male'] = (credit_df['SEX']==1).astype('int')\n",
        "credit_df.drop('SEX', axis=1, inplace=True)"
      ],
      "metadata": {
        "id": "D_DyvkhsrDkX"
      },
      "execution_count": null,
      "outputs": []
    },
    {
      "cell_type": "code",
      "source": [
        "#for features is the <= then it means it was not delayed\n",
        "pay_features = ['PAY_1','PAY_2','PAY_3','PAY_4','PAY_5','PAY_6']\n",
        "for p in pay_features:\n",
        "  credit_df.loc[credit_df[p]<=0, p]=0"
      ],
      "metadata": {
        "id": "ig0i7rr_rC5f"
      },
      "execution_count": null,
      "outputs": []
    },
    {
      "cell_type": "markdown",
      "source": [
        "###Splitting the Data to Train and Test and then scaling using Robust Scaler\n",
        "\n"
      ],
      "metadata": {
        "id": "frs66V7kUNmq"
      }
    },
    {
      "cell_type": "code",
      "source": [
        "# Importing Libraries\n",
        "from sklearn.model_selection import train_test_split\n",
        "from sklearn.metrics import accuracy_score\n",
        "from sklearn.metrics import precision_score\n",
        "from sklearn.metrics import recall_score\n",
        "from sklearn.metrics import confusion_matrix\n",
        "from sklearn.metrics import precision_recall_curve\n",
        "from sklearn.preprocessing import RobustScaler"
      ],
      "metadata": {
        "id": "nd3Ye2GOUOfy"
      },
      "execution_count": null,
      "outputs": []
    },
    {
      "cell_type": "code",
      "source": [
        "# Scalling and splitting the dataset\n",
        "target_name = 'default'\n",
        "X= credit_df.drop('default', axis= 1)\n",
        "robust_scaler = RobustScaler()\n",
        "X= robust_scaler.fit_transform(X)\n",
        "y= credit_df[target_name]\n",
        "X_train, X_test, y_train, y_test = train_test_split(X, y, test_size=0.15, random_state= 123, stratify= y)"
      ],
      "metadata": {
        "id": "c7oFnepbUPkF"
      },
      "execution_count": null,
      "outputs": []
    },
    {
      "cell_type": "code",
      "source": [
        "# Defining the evaluation matrix using Confusion Matrix\n",
        "def CMATRIX(CM, labels=['pay', 'default']):\n",
        "  df = pd.DataFrame(data=CM, index=labels, columns=labels)\n",
        "  df.index.name= \"TRUE\"\n",
        "  df.columns.name='PREDICTION'\n",
        "  df.loc['Total'] = df.sum()\n",
        "  df['Total'] = df.sum(axis=1)\n",
        "  return df  "
      ],
      "metadata": {
        "id": "8RABTE0RUPgj"
      },
      "execution_count": null,
      "outputs": []
    },
    {
      "cell_type": "markdown",
      "source": [
        "###Preparing dataset for model analysis"
      ],
      "metadata": {
        "id": "xvCu3ZelsWZk"
      }
    },
    {
      "cell_type": "code",
      "source": [
        "# data frame for evaluation metrics\n",
        "metrics = pd.DataFrame(index=['accuracy', 'precision','recall'],\n",
        "                       columns=['NULL', 'LogisticReg', 'DecisionTree', 'NaiveBayes'])"
      ],
      "metadata": {
        "id": "ODMu55CBUaxd"
      },
      "execution_count": null,
      "outputs": []
    },
    {
      "cell_type": "markdown",
      "source": [
        "**Metrics:**\n",
        "* **Accuracy:** Overall how often the model predicts correctly defaulters and non-defaulters\n",
        "* **Precison:** When the model predicts default: how often is correct?\n",
        "* **Recall:** The proportion of actual defaulters that the model will correctly predict as such.\n",
        "\n",
        "**Which metrics should we use?**\n",
        "* **False Positive**: A person who willl pay predicted as defaulter\n",
        "* **False Negative**: A person who default predicted payer\n",
        "\n",
        "False negative is worse => look for better recall"
      ],
      "metadata": {
        "id": "TVAYnTGUshaF"
      }
    },
    {
      "cell_type": "markdown",
      "source": [
        "###The Null model for comparision\n",
        "\n",
        "*Unlike regression we are using **Null Model** as a base or benchmark to compare how good our how good our model must be.*"
      ],
      "metadata": {
        "id": "ZsBR903fsv5L"
      }
    },
    {
      "cell_type": "code",
      "source": [
        "# evaluating NULL model to set benchmark\n",
        "y_pred_test = np.repeat(y_train.value_counts().idxmax(), y_test.size)\n",
        "metrics.loc['accuracy','NULL'] = accuracy_score(y_pred=y_pred_test, y_true=y_test)\n",
        "metrics.loc['precision','NULL'] = precision_score(y_pred=y_pred_test, y_true=y_test)\n",
        "metrics.loc['recall','NULL'] = recall_score(y_pred=y_pred_test, y_true=y_test)\n",
        "\n",
        "CM = confusion_matrix(y_pred=y_pred_test, y_true=y_test)\n",
        "CMATRIX(CM)"
      ],
      "metadata": {
        "id": "ja1_NP8IUarW"
      },
      "execution_count": null,
      "outputs": []
    },
    {
      "cell_type": "markdown",
      "source": [
        "#**Models**"
      ],
      "metadata": {
        "id": "nHqxlt-ltmc4"
      }
    },
    {
      "cell_type": "markdown",
      "source": [
        "* *The classification models used for this analysis are: Logistic Regression, Decision Tree and Random Forest Classifier.*\n",
        "\n",
        "* *To build machine learning models the original data was divided into features (X) and target (y) and then split into train (80%) and test (20%) sets.*"
      ],
      "metadata": {
        "id": "VrNgNsAW_mCs"
      }
    },
    {
      "cell_type": "markdown",
      "source": [
        "##Logistic Regression"
      ],
      "metadata": {
        "id": "azVx8qmDtqaN"
      }
    },
    {
      "cell_type": "code",
      "source": [
        "# Importing Library\n",
        "from sklearn.linear_model import LogisticRegression\n",
        "\n",
        "# Creating an instance\n",
        "logistic= LogisticRegression(n_jobs=-1, random_state=15)"
      ],
      "metadata": {
        "id": "X7QqlNvjUali"
      },
      "execution_count": null,
      "outputs": []
    },
    {
      "cell_type": "code",
      "source": [
        "#Training model using training data\n",
        "logistic.fit(X_train, y_train)\n",
        "\n",
        "# Evaluating the model\n",
        "y_pred_test = logistic.predict(X_test)\n",
        "metrics.loc['accuracy', 'LogisticReg'] = accuracy_score(y_pred=y_pred_test, y_true=y_test)\n",
        "metrics.loc['precision', 'LogisticReg'] = precision_score(y_pred=y_pred_test, y_true=y_test)\n",
        "metrics.loc['recall', 'LogisticReg'] = recall_score(y_pred=y_pred_test, y_true=y_test)\n",
        "\n",
        "#Confusion matrix\n",
        "CM = confusion_matrix(y_pred= y_pred_test, y_true= y_test)\n",
        "CMATRIX(CM)"
      ],
      "metadata": {
        "id": "C80JeIJrUadu"
      },
      "execution_count": null,
      "outputs": []
    },
    {
      "cell_type": "markdown",
      "source": [
        "##Decision Tree Classifier"
      ],
      "metadata": {
        "id": "CcmC5N6gt-qd"
      }
    },
    {
      "cell_type": "code",
      "source": [
        "#Importing Library\n",
        "from sklearn.tree import DecisionTreeClassifier\n",
        "\n",
        "# Creating an instance and using Hyperparameter\n",
        "decision_t = DecisionTreeClassifier(min_samples_split=30, min_samples_leaf= 10, random_state= 10) \n",
        "# Used Hyperparameter min_sample_split and min_sample_leaf to control overfitting"
      ],
      "metadata": {
        "id": "XAZJNhNVUaCm"
      },
      "execution_count": null,
      "outputs": []
    },
    {
      "cell_type": "code",
      "source": [
        "#Traing model using training data\n",
        "decision_t.fit(X_train, y_train)\n",
        "\n",
        "# Evaluate the model\n",
        "y_pred_test = decision_t.predict(X_test)\n",
        "metrics.loc['accuracy', 'DecisionTree'] = accuracy_score(y_pred=y_pred_test, y_true=y_test)\n",
        "metrics.loc['precision', 'DecisionTree'] = precision_score(y_pred=y_pred_test, y_true=y_test)\n",
        "metrics.loc['recall', 'DecisionTree'] = recall_score(y_pred=y_pred_test, y_true=y_test)\n",
        "\n",
        "#Confusion matrix\n",
        "CM = confusion_matrix(y_pred= y_pred_test, y_true= y_test)\n",
        "CMATRIX(CM)"
      ],
      "metadata": {
        "id": "ajUJEkTNuI1M"
      },
      "execution_count": null,
      "outputs": []
    },
    {
      "cell_type": "markdown",
      "source": [
        "##Naive Bayes Classifier"
      ],
      "metadata": {
        "id": "d5H4HSmwuOun"
      }
    },
    {
      "cell_type": "code",
      "source": [
        "#Importing Library\n",
        "from sklearn.naive_bayes import GaussianNB\n",
        "\n",
        "# Creating an instance\n",
        "naive_ = GaussianNB()"
      ],
      "metadata": {
        "id": "tLv3gZTNuN57"
      },
      "execution_count": null,
      "outputs": []
    },
    {
      "cell_type": "code",
      "source": [
        "#Training dataset\n",
        "naive_.fit(X_train, y_train)\n",
        "\n",
        "# Evaluate the model\n",
        "y_pred_test = naive_.predict(X_test)\n",
        "metrics.loc['accuracy', 'NaiveBayes'] = accuracy_score(y_pred=y_pred_test, y_true=y_test)\n",
        "metrics.loc['precision', 'NaiveBayes'] = precision_score(y_pred=y_pred_test, y_true=y_test)\n",
        "metrics.loc['recall', 'NaiveBayes'] = recall_score(y_pred=y_pred_test, y_true=y_test)\n",
        "\n",
        "#Confusion matrix\n",
        "CM = confusion_matrix(y_pred= y_pred_test, y_true= y_test)\n",
        "CMATRIX(CM)"
      ],
      "metadata": {
        "id": "hDWrvh0ouS4S"
      },
      "execution_count": null,
      "outputs": []
    },
    {
      "cell_type": "markdown",
      "source": [
        "##Evaluating the Models"
      ],
      "metadata": {
        "id": "deWMkBShuZVd"
      }
    },
    {
      "cell_type": "code",
      "source": [
        "evaluation= 100*metrics\n",
        "evaluation"
      ],
      "metadata": {
        "id": "9nJmZZKOuUso"
      },
      "execution_count": null,
      "outputs": []
    },
    {
      "cell_type": "code",
      "source": [
        "# visualization of evaluation\n",
        "fig, ax = plt.subplots(figsize=(8,5))\n",
        "metrics.plot(kind='barh', ax=ax)\n",
        "ax.grid(); "
      ],
      "metadata": {
        "id": "w7NoZ53uufWq"
      },
      "execution_count": null,
      "outputs": []
    },
    {
      "cell_type": "markdown",
      "source": [
        "**Findings:**\n",
        "\n",
        "**As it was said that the matrics we cared most about was Accuracy**, so based on the provided confusion matrix, the following findings can be determined for the three models:\n",
        "\n",
        "* The **logistic regression model has the highest accuracy of 81.96%**, followed by Decision Tree with 79.40% and Naive Bayes with 77.02%.\n",
        "* The logistic regression model has the highest precision of 69.76%, which means that out of all instances predicted as defaulters, 69.76% were actually defaulters. The Decision Tree model has a precision of 54.83% and Naive Bayes has a precision of 48.30%.\n",
        "* The logistic regression model has a recall of 32.46%, which means that out of all actual defaulters, 32.46% were correctly predicted as defaulters. The Decision Tree model has a recall of 38.79% and Naive Bayes has a recall of 55.78%.\n",
        "\n",
        "It can be concluded that the **logistic regression model has the highest accuracy but has room for improvement in precision and recall**. The Naive Bayes model has the highest recall but has low precision. The Decision Tree model has an average performance in terms of accuracy, precision, and recall. Further analysis may be necessary to fully understand the results and make further improvements.\n",
        "\n",
        "\n",
        "\n"
      ],
      "metadata": {
        "id": "ZgQUHrV56Ohv"
      }
    },
    {
      "cell_type": "markdown",
      "source": [
        "###Lets not stop here and also improve other two metrices that Logistic regression model did not performed well on."
      ],
      "metadata": {
        "id": "zjWZ6GAdJ2Nh"
      }
    },
    {
      "cell_type": "markdown",
      "source": [
        "####Checking the relationship between Precision, Recall, and Threshold of Naive Bayes and Logistic Regression."
      ],
      "metadata": {
        "id": "RsmRJq68u06A"
      }
    },
    {
      "cell_type": "code",
      "source": [
        "#Using Precision Recall Curve\n",
        "precision_nb, recall_nb, thresholds_nb = precision_recall_curve(y_true=y_test, probas_pred=naive_.predict_proba(X_test)[:,1])\n",
        "precision_logi, recall_logi, thresholds_logi = precision_recall_curve(y_true=y_test, probas_pred=logistic.predict_proba(X_test)[:,1])"
      ],
      "metadata": {
        "id": "AQlsrnhruuig"
      },
      "execution_count": null,
      "outputs": []
    },
    {
      "cell_type": "code",
      "source": [
        "# Visualization\n",
        "fig, ax = plt.subplots(figsize=(8,5))\n",
        "ax.plot(precision_nb, recall_nb, label= 'NaiveBayes')\n",
        "ax.plot(precision_logi, recall_logi, label= 'LogisticReg')\n",
        "ax.set_label('Precision')\n",
        "ax.set_ylabel('Recall')\n",
        "ax.set_title('Precision-Recall Curve')\n",
        "ax.hlines(y=0.5, xmin=0, xmax=1, color='red')\n",
        "ax.legend()\n",
        "ax.grid();"
      ],
      "metadata": {
        "id": "g2mWrP-Mu5wk"
      },
      "execution_count": null,
      "outputs": []
    },
    {
      "cell_type": "code",
      "source": [
        "# Visualization\n",
        "fig, ax = plt.subplots(figsize=(8,5))\n",
        "ax.plot(thresholds_logi, precision_logi[1:], label= 'Precision')\n",
        "ax.plot(thresholds_logi, recall_logi[1:], label= 'Recall')\n",
        "ax.set_label('Classification Threshold')\n",
        "ax.set_ylabel('Precision, Recall')\n",
        "ax.set_title('Logistic Regression Classifier: Precision-Recall')\n",
        "ax.hlines(y=0.6, xmin=0, xmax=1, color='red')\n",
        "ax.legend()\n",
        "ax.grid();"
      ],
      "metadata": {
        "id": "YbJVkwjfvBGF"
      },
      "execution_count": null,
      "outputs": []
    },
    {
      "cell_type": "markdown",
      "source": [
        "## Improving the Model"
      ],
      "metadata": {
        "id": "9F9ZPJndvLAd"
      }
    },
    {
      "cell_type": "markdown",
      "source": [
        "###Improving Recall and Precision of Logistic Regression with threshold of 0.2"
      ],
      "metadata": {
        "id": "CCJCAwvcva8I"
      }
    },
    {
      "cell_type": "code",
      "source": [
        "#Improving threshold for Logistic regression\n",
        "y_pred_proba = logistic.predict_proba(X_test)[:,1]\n",
        "y_pred_test= (y_pred_proba >= 0.2).astype('int')\n",
        "\n",
        "#Confusion Matrix\n",
        "print( \"Recall: \", 100*recall_score(y_pred= y_pred_test, y_true= y_test))\n",
        "print( \"Precision: \", 100*precision_score(y_pred= y_pred_test, y_true= y_test))\n",
        "CMATRIX(CM)"
      ],
      "metadata": {
        "id": "mSFrC0DMvJFs"
      },
      "execution_count": null,
      "outputs": []
    },
    {
      "cell_type": "markdown",
      "source": [
        "**Findings:**\n",
        "\n",
        "* The recall of the model has improved to 59.50%, which means that out of all actual defaulters, 59.50% were correctly predicted as defaulters.\n",
        "* The precision of the model has improved to 47.94%, which means that out of all instances predicted as defaulters, 47.94% were actually defaulters.\n",
        "\n",
        "\n",
        "It can be concluded that the model improvement has led to an increase in recall and precision, indicating a better ability to predict defaulters. However, there is still room for further improvement as the values are not close to 100%. Further analysis may be necessary to fully understand the results and make further improvements. **With this the Logistic Regression models has improved on all matrices and can perform even better.** "
      ],
      "metadata": {
        "id": "ukC8dGxf7pBL"
      }
    },
    {
      "cell_type": "markdown",
      "source": [
        "#**Conclusion**\n"
      ],
      "metadata": {
        "id": "GkwaA8PQKdNo"
      }
    },
    {
      "cell_type": "markdown",
      "source": [
        "Here is a final conclusion:\n",
        "\n",
        "* The goal of this project was to use Machine Learning Classification to predict credit card default, with a focus on getting a model which has achieved high accuracy.\n",
        "\n",
        "* The confusion matrix was used to evaluate the performance of the models, with accuracy, precision and recall being the key metrics.\n",
        "* **Logistic regression had the highest accuracy among the three models**, but had room for improvement in precision and recall. \n",
        "* Naive Bayes had the highest recall, but low precision. \n",
        "* Decision Tree had an average performance in terms of accuracy, precision and recall.\n",
        "* After model improvement, the recall and precision of the Logistic Regression model also increased, indicating a better ability to predict defaulters.\n",
        "* The final conclusion is that the models had some success in predicting credit card default, but there is still room for further improvement. Further analysis and adjustments can be done to achieve better results.\n"
      ],
      "metadata": {
        "id": "1jfasZhhv814"
      }
    }
  ]
}